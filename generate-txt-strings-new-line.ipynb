{
 "cells": [
  {
   "cell_type": "markdown",
   "id": "5f08b450",
   "metadata": {},
   "source": [
    "# Generate a txt file containig strings seperated by new line\n",
    "\n",
    "Given this dataset:"
   ]
  },
  {
   "cell_type": "code",
   "execution_count": 1,
   "id": "e848701c",
   "metadata": {},
   "outputs": [],
   "source": [
    "using DataFrames, Random"
   ]
  },
  {
   "cell_type": "code",
   "execution_count": 20,
   "id": "5b54ba67",
   "metadata": {
    "scrolled": true
   },
   "outputs": [
    {
     "data": {
      "text/html": [
       "<table class=\"data-frame\"><thead><tr><th></th><th>team</th><th>comments</th></tr><tr><th></th><th>String</th><th>String</th></tr></thead><tbody><p>30 rows × 2 columns</p><tr><th>1</th><td>T1</td><td>ICiFFcjy7XaG1HcwjDFRvobUrB0Ge4ah13n53rqLBCcp6WW0lv</td></tr><tr><th>2</th><td>T1</td><td>baz8v2Aibc0EVzl0oQhtyiGpQqWOh7qvoIsTtazSZmgYKe1CRQ</td></tr><tr><th>3</th><td>T1</td><td>AGSm6zR2aINTzbdqnvVBozD06ih7E3laObgdDQ2vRcTiL5v7AP</td></tr><tr><th>4</th><td>T1</td><td>8kbyrL5MSyUkVGJeQlBMKGABXbPt9NYeLzrj9p8QTdJ10s417l</td></tr><tr><th>5</th><td>T1</td><td>j7rFjqBj8FddsTZjcOoSQtbRRe15QlEdMdR2Azp2sYML95hxqY</td></tr><tr><th>6</th><td>T1</td><td>yaQlmJJ6lZE5RLVx6ESFIUhfsAdBuPh4LCzsYCTgVVrKApclsc</td></tr><tr><th>7</th><td>T1</td><td>3olhP9vs338I1FHNi9zJUPMHWBm09ZzyBZ99JYihSumK54pUZD</td></tr><tr><th>8</th><td>T1</td><td>w5wnLispODFKndRKoyBc6IL4MbIpbvEAgRSKJxfBrKHWjv1gyC</td></tr><tr><th>9</th><td>T1</td><td>zYiRuTW1QiDhtvvRn2xHYEYvFPGdI5SEdXEs55Z50G7BE9vGL3</td></tr><tr><th>10</th><td>T1</td><td>7ReyuMmJotpquKTMK3Ynjdl8pdngQHNouZA5NKhM3tlAMpAKe5</td></tr><tr><th>11</th><td>T2</td><td>6PgLALLz8xx3SretooA0grPlmeVkrDXmuFjwLBtkzd88LzRUsK</td></tr><tr><th>12</th><td>T2</td><td>PGy4lhGcxIGtp6MuwKIUqlPAMEb6QhCMcErSu8aSbDJV1papMo</td></tr><tr><th>13</th><td>T2</td><td>72AWBF6LQWpZxUbT9Yj5PHAb6qCNQ2aBflK7FT1qtpSFMK0Gav</td></tr><tr><th>14</th><td>T2</td><td>q43mq2v5EQg8hGIGmQlf8Md7CJG7MBIASqBsm9imnwd0FXAbyR</td></tr><tr><th>15</th><td>T2</td><td>QuvCguQqQ7TH5PAG1pLur3bGxRmhH7ko5XGDA8hK0pUcrRjljp</td></tr><tr><th>16</th><td>T2</td><td>011nAb4FXkCtntV4bL1vR5ARToRgABeq5ts3eRNIyHv4EzA8VQ</td></tr><tr><th>17</th><td>T2</td><td>cGhFp6x8givK9Vy7roe2d0mmgSJrGaziVYVc5Vu4izGv2zEJkN</td></tr><tr><th>18</th><td>T2</td><td>UPsaCCGH7KKimPm6k39qX57iEv5jGgzE2yP2OKT74m7DvFiNZp</td></tr><tr><th>19</th><td>T2</td><td>ZRjBwLPbBOp8lDGmq8UIuLY1HnLTIPewEkkizUdpPH1yEbSuiW</td></tr><tr><th>20</th><td>T2</td><td>3n7NelXS5CN9pFwlpXtXzMh0P4V2uoDZ45tW5j5PmAaNwdeu3W</td></tr><tr><th>21</th><td>T3</td><td>vUb6NYbMkZmobgLULwRtBVsqgjDKLb81QQpJQTyfaLY7xgS9Hl</td></tr><tr><th>22</th><td>T3</td><td>bWhGRv35DnzP9tshiyufaDZRjv2E4VzIlMoEdNk6unaMdFPROj</td></tr><tr><th>23</th><td>T3</td><td>lg7goXhSkbBCRDA6CztFtjZBVoNZ3eXqJqMsuLEBSkErSW0Keo</td></tr><tr><th>24</th><td>T3</td><td>GZYVZw4CXJmdRMXnxT1ALEtIKRW3S6ctma9qfq7sH18Qgo6xbn</td></tr><tr><th>25</th><td>T3</td><td>riRBcMzz0NKiLstGb8L4CRneq0YVnMhRGM9sX8icXxH2OdozqK</td></tr><tr><th>26</th><td>T3</td><td>3znpv3v023HRRbl1dS5HnzbA6AiLzjmO3i8Id8vl4lS35IaC3j</td></tr><tr><th>27</th><td>T3</td><td>FePuHUE2ZAXU8OrmE5OGA2sREfE7MPYF5hJIY42ExUYyF5z3ll</td></tr><tr><th>28</th><td>T3</td><td>2qpH12nUJIh45oyzS3TEDi5H1VsqYAsUW8tCptosoofLno318e</td></tr><tr><th>29</th><td>T3</td><td>glxQ6Un02bnsAEw8Vyw1CKW2TEksKcAm2QbJeboksoUYDI5mbB</td></tr><tr><th>30</th><td>T3</td><td>TVDVRlHXAzrbvUXiHTe5PbWlD1PPfFSYAvjLq2cOxB2LQZulZe</td></tr></tbody></table>"
      ],
      "text/latex": [
       "\\begin{tabular}{r|cc}\n",
       "\t& team & comments\\\\\n",
       "\t\\hline\n",
       "\t& String & String\\\\\n",
       "\t\\hline\n",
       "\t1 & T1 & ICiFFcjy7XaG1HcwjDFRvobUrB0Ge4ah13n53rqLBCcp6WW0lv \\\\\n",
       "\t2 & T1 & baz8v2Aibc0EVzl0oQhtyiGpQqWOh7qvoIsTtazSZmgYKe1CRQ \\\\\n",
       "\t3 & T1 & AGSm6zR2aINTzbdqnvVBozD06ih7E3laObgdDQ2vRcTiL5v7AP \\\\\n",
       "\t4 & T1 & 8kbyrL5MSyUkVGJeQlBMKGABXbPt9NYeLzrj9p8QTdJ10s417l \\\\\n",
       "\t5 & T1 & j7rFjqBj8FddsTZjcOoSQtbRRe15QlEdMdR2Azp2sYML95hxqY \\\\\n",
       "\t6 & T1 & yaQlmJJ6lZE5RLVx6ESFIUhfsAdBuPh4LCzsYCTgVVrKApclsc \\\\\n",
       "\t7 & T1 & 3olhP9vs338I1FHNi9zJUPMHWBm09ZzyBZ99JYihSumK54pUZD \\\\\n",
       "\t8 & T1 & w5wnLispODFKndRKoyBc6IL4MbIpbvEAgRSKJxfBrKHWjv1gyC \\\\\n",
       "\t9 & T1 & zYiRuTW1QiDhtvvRn2xHYEYvFPGdI5SEdXEs55Z50G7BE9vGL3 \\\\\n",
       "\t10 & T1 & 7ReyuMmJotpquKTMK3Ynjdl8pdngQHNouZA5NKhM3tlAMpAKe5 \\\\\n",
       "\t11 & T2 & 6PgLALLz8xx3SretooA0grPlmeVkrDXmuFjwLBtkzd88LzRUsK \\\\\n",
       "\t12 & T2 & PGy4lhGcxIGtp6MuwKIUqlPAMEb6QhCMcErSu8aSbDJV1papMo \\\\\n",
       "\t13 & T2 & 72AWBF6LQWpZxUbT9Yj5PHAb6qCNQ2aBflK7FT1qtpSFMK0Gav \\\\\n",
       "\t14 & T2 & q43mq2v5EQg8hGIGmQlf8Md7CJG7MBIASqBsm9imnwd0FXAbyR \\\\\n",
       "\t15 & T2 & QuvCguQqQ7TH5PAG1pLur3bGxRmhH7ko5XGDA8hK0pUcrRjljp \\\\\n",
       "\t16 & T2 & 011nAb4FXkCtntV4bL1vR5ARToRgABeq5ts3eRNIyHv4EzA8VQ \\\\\n",
       "\t17 & T2 & cGhFp6x8givK9Vy7roe2d0mmgSJrGaziVYVc5Vu4izGv2zEJkN \\\\\n",
       "\t18 & T2 & UPsaCCGH7KKimPm6k39qX57iEv5jGgzE2yP2OKT74m7DvFiNZp \\\\\n",
       "\t19 & T2 & ZRjBwLPbBOp8lDGmq8UIuLY1HnLTIPewEkkizUdpPH1yEbSuiW \\\\\n",
       "\t20 & T2 & 3n7NelXS5CN9pFwlpXtXzMh0P4V2uoDZ45tW5j5PmAaNwdeu3W \\\\\n",
       "\t21 & T3 & vUb6NYbMkZmobgLULwRtBVsqgjDKLb81QQpJQTyfaLY7xgS9Hl \\\\\n",
       "\t22 & T3 & bWhGRv35DnzP9tshiyufaDZRjv2E4VzIlMoEdNk6unaMdFPROj \\\\\n",
       "\t23 & T3 & lg7goXhSkbBCRDA6CztFtjZBVoNZ3eXqJqMsuLEBSkErSW0Keo \\\\\n",
       "\t24 & T3 & GZYVZw4CXJmdRMXnxT1ALEtIKRW3S6ctma9qfq7sH18Qgo6xbn \\\\\n",
       "\t25 & T3 & riRBcMzz0NKiLstGb8L4CRneq0YVnMhRGM9sX8icXxH2OdozqK \\\\\n",
       "\t26 & T3 & 3znpv3v023HRRbl1dS5HnzbA6AiLzjmO3i8Id8vl4lS35IaC3j \\\\\n",
       "\t27 & T3 & FePuHUE2ZAXU8OrmE5OGA2sREfE7MPYF5hJIY42ExUYyF5z3ll \\\\\n",
       "\t28 & T3 & 2qpH12nUJIh45oyzS3TEDi5H1VsqYAsUW8tCptosoofLno318e \\\\\n",
       "\t29 & T3 & glxQ6Un02bnsAEw8Vyw1CKW2TEksKcAm2QbJeboksoUYDI5mbB \\\\\n",
       "\t30 & T3 & TVDVRlHXAzrbvUXiHTe5PbWlD1PPfFSYAvjLq2cOxB2LQZulZe \\\\\n",
       "\\end{tabular}\n"
      ],
      "text/plain": [
       "30×2 DataFrame\n",
       "│ Row │ team   │ comments                                           │\n",
       "│     │ \u001b[90mString\u001b[39m │ \u001b[90mString\u001b[39m                                             │\n",
       "├─────┼────────┼────────────────────────────────────────────────────┤\n",
       "│ 1   │ T1     │ ICiFFcjy7XaG1HcwjDFRvobUrB0Ge4ah13n53rqLBCcp6WW0lv │\n",
       "│ 2   │ T1     │ baz8v2Aibc0EVzl0oQhtyiGpQqWOh7qvoIsTtazSZmgYKe1CRQ │\n",
       "│ 3   │ T1     │ AGSm6zR2aINTzbdqnvVBozD06ih7E3laObgdDQ2vRcTiL5v7AP │\n",
       "│ 4   │ T1     │ 8kbyrL5MSyUkVGJeQlBMKGABXbPt9NYeLzrj9p8QTdJ10s417l │\n",
       "│ 5   │ T1     │ j7rFjqBj8FddsTZjcOoSQtbRRe15QlEdMdR2Azp2sYML95hxqY │\n",
       "│ 6   │ T1     │ yaQlmJJ6lZE5RLVx6ESFIUhfsAdBuPh4LCzsYCTgVVrKApclsc │\n",
       "│ 7   │ T1     │ 3olhP9vs338I1FHNi9zJUPMHWBm09ZzyBZ99JYihSumK54pUZD │\n",
       "│ 8   │ T1     │ w5wnLispODFKndRKoyBc6IL4MbIpbvEAgRSKJxfBrKHWjv1gyC │\n",
       "│ 9   │ T1     │ zYiRuTW1QiDhtvvRn2xHYEYvFPGdI5SEdXEs55Z50G7BE9vGL3 │\n",
       "│ 10  │ T1     │ 7ReyuMmJotpquKTMK3Ynjdl8pdngQHNouZA5NKhM3tlAMpAKe5 │\n",
       "│ 11  │ T2     │ 6PgLALLz8xx3SretooA0grPlmeVkrDXmuFjwLBtkzd88LzRUsK │\n",
       "│ 12  │ T2     │ PGy4lhGcxIGtp6MuwKIUqlPAMEb6QhCMcErSu8aSbDJV1papMo │\n",
       "│ 13  │ T2     │ 72AWBF6LQWpZxUbT9Yj5PHAb6qCNQ2aBflK7FT1qtpSFMK0Gav │\n",
       "│ 14  │ T2     │ q43mq2v5EQg8hGIGmQlf8Md7CJG7MBIASqBsm9imnwd0FXAbyR │\n",
       "│ 15  │ T2     │ QuvCguQqQ7TH5PAG1pLur3bGxRmhH7ko5XGDA8hK0pUcrRjljp │\n",
       "│ 16  │ T2     │ 011nAb4FXkCtntV4bL1vR5ARToRgABeq5ts3eRNIyHv4EzA8VQ │\n",
       "│ 17  │ T2     │ cGhFp6x8givK9Vy7roe2d0mmgSJrGaziVYVc5Vu4izGv2zEJkN │\n",
       "│ 18  │ T2     │ UPsaCCGH7KKimPm6k39qX57iEv5jGgzE2yP2OKT74m7DvFiNZp │\n",
       "│ 19  │ T2     │ ZRjBwLPbBOp8lDGmq8UIuLY1HnLTIPewEkkizUdpPH1yEbSuiW │\n",
       "│ 20  │ T2     │ 3n7NelXS5CN9pFwlpXtXzMh0P4V2uoDZ45tW5j5PmAaNwdeu3W │\n",
       "│ 21  │ T3     │ vUb6NYbMkZmobgLULwRtBVsqgjDKLb81QQpJQTyfaLY7xgS9Hl │\n",
       "│ 22  │ T3     │ bWhGRv35DnzP9tshiyufaDZRjv2E4VzIlMoEdNk6unaMdFPROj │\n",
       "│ 23  │ T3     │ lg7goXhSkbBCRDA6CztFtjZBVoNZ3eXqJqMsuLEBSkErSW0Keo │\n",
       "│ 24  │ T3     │ GZYVZw4CXJmdRMXnxT1ALEtIKRW3S6ctma9qfq7sH18Qgo6xbn │\n",
       "│ 25  │ T3     │ riRBcMzz0NKiLstGb8L4CRneq0YVnMhRGM9sX8icXxH2OdozqK │\n",
       "│ 26  │ T3     │ 3znpv3v023HRRbl1dS5HnzbA6AiLzjmO3i8Id8vl4lS35IaC3j │\n",
       "│ 27  │ T3     │ FePuHUE2ZAXU8OrmE5OGA2sREfE7MPYF5hJIY42ExUYyF5z3ll │\n",
       "│ 28  │ T3     │ 2qpH12nUJIh45oyzS3TEDi5H1VsqYAsUW8tCptosoofLno318e │\n",
       "│ 29  │ T3     │ glxQ6Un02bnsAEw8Vyw1CKW2TEksKcAm2QbJeboksoUYDI5mbB │\n",
       "│ 30  │ T3     │ TVDVRlHXAzrbvUXiHTe5PbWlD1PPfFSYAvjLq2cOxB2LQZulZe │"
      ]
     },
     "execution_count": 20,
     "metadata": {},
     "output_type": "execute_result"
    }
   ],
   "source": [
    "teams = repeat([\"T1\", \"T2\", \"T3\"], inner = 10)\n",
    "# Following idea from https://stackoverflow.com/a/57978641\n",
    "comments = [randstring(50) for _ in 1:30]\n",
    "df = DataFrame(:team => teams, :comments => comments)"
   ]
  },
  {
   "cell_type": "markdown",
   "id": "50f9b570",
   "metadata": {},
   "source": [
    "## Task:\n",
    "\n",
    "Okay, now we have this dataset. You are expected to generate a `txt` file for each team. The file should contain all the comments for that team. Each comment should be followed by a new line. "
   ]
  },
  {
   "cell_type": "code",
   "execution_count": 14,
   "id": "a41f1de9",
   "metadata": {},
   "outputs": [
    {
     "data": {
      "text/html": [
       "<p><b>GroupedDataFrame with 3 groups based on key: team</b></p><p><i>First Group (10 rows): team = \"T1\"</i></p><table class=\"data-frame\"><thead><tr><th></th><th>team</th><th>comments</th></tr><tr><th></th><th>String</th><th>String</th></tr></thead><tbody><tr><th>1</th><td>T1</td><td>fCpLbR3BViZGPL5jkDXSGpiMXOAZXubK7ALObZPrEURE2alXeM</td></tr><tr><th>2</th><td>T1</td><td>jmsZGeEFAP7FG4hF5imUoMf50Ukfd6jyFdBtqKsqRy3WNoIe5f</td></tr><tr><th>3</th><td>T1</td><td>3y380I1Xi6PSrJxOePqaTAhAAVMgjnNJDFsfOWNZA6HrT1mbd7</td></tr><tr><th>4</th><td>T1</td><td>mVItH2srrIwCpoR6CuKr15ibvkX57YFcXiLOP0irpnlQrdwH3O</td></tr><tr><th>5</th><td>T1</td><td>pZCkk1eNYxugoSEs6SoP06ouXawg75Vy50AR0X6qUNQcaOWjLB</td></tr><tr><th>6</th><td>T1</td><td>KSmmwC3wgww14BZof5Odc9PF5xb9mZhytIGGFfRUObmr1KIkQ3</td></tr><tr><th>7</th><td>T1</td><td>SB3bIs2eQ4hwKew1mIqETAbVXgAF20liGnefSFQRaHFxIUdZJP</td></tr><tr><th>8</th><td>T1</td><td>3VZ9uGFcI7bp8Rh8PJa4rgIOa9Gz1tvVfmQBJ30OczdFrckJnK</td></tr><tr><th>9</th><td>T1</td><td>SHrPq2ghvOKzsEAQ7bxzzvaPesD47fkmUb3Bulhwecx7TDhTEz</td></tr><tr><th>10</th><td>T1</td><td>J96MU9WO6pRac9JFlNX7LHtM9DeuhTsH2sYaWCQE2KhpCW0gmo</td></tr></tbody></table><p>&vellip;</p><p><i>Last Group (10 rows): team = \"T3\"</i></p><table class=\"data-frame\"><thead><tr><th></th><th>team</th><th>comments</th></tr><tr><th></th><th>String</th><th>String</th></tr></thead><tbody><tr><th>1</th><td>T3</td><td>Bjnl7EFOZJQt7KGH8aDfSTmKpxIiNTvkEI1Msr3ocs1x8anHYD</td></tr><tr><th>2</th><td>T3</td><td>C4d5brdsZVzrK48NNi7Md4YibLVLVP5EVt4ZbY9VEvv60LVwUv</td></tr><tr><th>3</th><td>T3</td><td>Nk3PtvLTVhsvKSAgFNDAzcwlp4G6q0PKUuQOt98lmPZ57cY0Dn</td></tr><tr><th>4</th><td>T3</td><td>xVovCDnxQjt8zzytkSNiqeFpIIrKtqVmQQiZ0zVMyVIDO0n82W</td></tr><tr><th>5</th><td>T3</td><td>fXLny2rPt1Bt3FUhZde8CpmjH5zGmSViLiGN6RP3jCVSkJoPWU</td></tr><tr><th>6</th><td>T3</td><td>Di4w6KMs6EWhfIlrzP9oaWPuL6lQmgNYE7A8swjUIxKs78wHk1</td></tr><tr><th>7</th><td>T3</td><td>TFGPpl3rpMtKtf9yZs2mF3fgCXPsMmFnTQA5atrdssf0YFmvBC</td></tr><tr><th>8</th><td>T3</td><td>4RuRpM3SBKPO06EXQIuAshXZo3P2OfIbNBDsVwDY5UYAtc3qJG</td></tr><tr><th>9</th><td>T3</td><td>iKFsDof9lzNBKRB90ChxmLU4JDQQlaiy6XQQbr3KXeIxi6RoRd</td></tr><tr><th>10</th><td>T3</td><td>udEUVaI2664BtyDXbKsNJIViBWskm9GpYsAhO9XioEU7A5y5t9</td></tr></tbody></table>"
      ],
      "text/latex": [
       "GroupedDataFrame with 3 groups based on key: team\n",
       "\n",
       "First Group (10 rows): team = \"T1\"\n",
       "\n",
       "\\begin{tabular}{r|cc}\n",
       "\t& team & comments\\\\\n",
       "\t\\hline\n",
       "\t& String & String\\\\\n",
       "\t\\hline\n",
       "\t1 & T1 & fCpLbR3BViZGPL5jkDXSGpiMXOAZXubK7ALObZPrEURE2alXeM \\\\\n",
       "\t2 & T1 & jmsZGeEFAP7FG4hF5imUoMf50Ukfd6jyFdBtqKsqRy3WNoIe5f \\\\\n",
       "\t3 & T1 & 3y380I1Xi6PSrJxOePqaTAhAAVMgjnNJDFsfOWNZA6HrT1mbd7 \\\\\n",
       "\t4 & T1 & mVItH2srrIwCpoR6CuKr15ibvkX57YFcXiLOP0irpnlQrdwH3O \\\\\n",
       "\t5 & T1 & pZCkk1eNYxugoSEs6SoP06ouXawg75Vy50AR0X6qUNQcaOWjLB \\\\\n",
       "\t6 & T1 & KSmmwC3wgww14BZof5Odc9PF5xb9mZhytIGGFfRUObmr1KIkQ3 \\\\\n",
       "\t7 & T1 & SB3bIs2eQ4hwKew1mIqETAbVXgAF20liGnefSFQRaHFxIUdZJP \\\\\n",
       "\t8 & T1 & 3VZ9uGFcI7bp8Rh8PJa4rgIOa9Gz1tvVfmQBJ30OczdFrckJnK \\\\\n",
       "\t9 & T1 & SHrPq2ghvOKzsEAQ7bxzzvaPesD47fkmUb3Bulhwecx7TDhTEz \\\\\n",
       "\t10 & T1 & J96MU9WO6pRac9JFlNX7LHtM9DeuhTsH2sYaWCQE2KhpCW0gmo \\\\\n",
       "\\end{tabular}\n",
       "\n",
       "$\\dots$\n",
       "\n",
       "Last Group (10 rows): team = \"T3\"\n",
       "\n",
       "\\begin{tabular}{r|cc}\n",
       "\t& team & comments\\\\\n",
       "\t\\hline\n",
       "\t& String & String\\\\\n",
       "\t\\hline\n",
       "\t1 & T3 & Bjnl7EFOZJQt7KGH8aDfSTmKpxIiNTvkEI1Msr3ocs1x8anHYD \\\\\n",
       "\t2 & T3 & C4d5brdsZVzrK48NNi7Md4YibLVLVP5EVt4ZbY9VEvv60LVwUv \\\\\n",
       "\t3 & T3 & Nk3PtvLTVhsvKSAgFNDAzcwlp4G6q0PKUuQOt98lmPZ57cY0Dn \\\\\n",
       "\t4 & T3 & xVovCDnxQjt8zzytkSNiqeFpIIrKtqVmQQiZ0zVMyVIDO0n82W \\\\\n",
       "\t5 & T3 & fXLny2rPt1Bt3FUhZde8CpmjH5zGmSViLiGN6RP3jCVSkJoPWU \\\\\n",
       "\t6 & T3 & Di4w6KMs6EWhfIlrzP9oaWPuL6lQmgNYE7A8swjUIxKs78wHk1 \\\\\n",
       "\t7 & T3 & TFGPpl3rpMtKtf9yZs2mF3fgCXPsMmFnTQA5atrdssf0YFmvBC \\\\\n",
       "\t8 & T3 & 4RuRpM3SBKPO06EXQIuAshXZo3P2OfIbNBDsVwDY5UYAtc3qJG \\\\\n",
       "\t9 & T3 & iKFsDof9lzNBKRB90ChxmLU4JDQQlaiy6XQQbr3KXeIxi6RoRd \\\\\n",
       "\t10 & T3 & udEUVaI2664BtyDXbKsNJIViBWskm9GpYsAhO9XioEU7A5y5t9 \\\\\n",
       "\\end{tabular}\n"
      ],
      "text/plain": [
       "GroupedDataFrame with 3 groups based on key: team\n",
       "First Group (10 rows): team = \"T1\"\n",
       "│ Row │ team   │ comments                                           │\n",
       "│     │ \u001b[90mString\u001b[39m │ \u001b[90mString\u001b[39m                                             │\n",
       "├─────┼────────┼────────────────────────────────────────────────────┤\n",
       "│ 1   │ T1     │ fCpLbR3BViZGPL5jkDXSGpiMXOAZXubK7ALObZPrEURE2alXeM │\n",
       "│ 2   │ T1     │ jmsZGeEFAP7FG4hF5imUoMf50Ukfd6jyFdBtqKsqRy3WNoIe5f │\n",
       "│ 3   │ T1     │ 3y380I1Xi6PSrJxOePqaTAhAAVMgjnNJDFsfOWNZA6HrT1mbd7 │\n",
       "│ 4   │ T1     │ mVItH2srrIwCpoR6CuKr15ibvkX57YFcXiLOP0irpnlQrdwH3O │\n",
       "│ 5   │ T1     │ pZCkk1eNYxugoSEs6SoP06ouXawg75Vy50AR0X6qUNQcaOWjLB │\n",
       "│ 6   │ T1     │ KSmmwC3wgww14BZof5Odc9PF5xb9mZhytIGGFfRUObmr1KIkQ3 │\n",
       "│ 7   │ T1     │ SB3bIs2eQ4hwKew1mIqETAbVXgAF20liGnefSFQRaHFxIUdZJP │\n",
       "│ 8   │ T1     │ 3VZ9uGFcI7bp8Rh8PJa4rgIOa9Gz1tvVfmQBJ30OczdFrckJnK │\n",
       "│ 9   │ T1     │ SHrPq2ghvOKzsEAQ7bxzzvaPesD47fkmUb3Bulhwecx7TDhTEz │\n",
       "│ 10  │ T1     │ J96MU9WO6pRac9JFlNX7LHtM9DeuhTsH2sYaWCQE2KhpCW0gmo │\n",
       "⋮\n",
       "Last Group (10 rows): team = \"T3\"\n",
       "│ Row │ team   │ comments                                           │\n",
       "│     │ \u001b[90mString\u001b[39m │ \u001b[90mString\u001b[39m                                             │\n",
       "├─────┼────────┼────────────────────────────────────────────────────┤\n",
       "│ 1   │ T3     │ Bjnl7EFOZJQt7KGH8aDfSTmKpxIiNTvkEI1Msr3ocs1x8anHYD │\n",
       "│ 2   │ T3     │ C4d5brdsZVzrK48NNi7Md4YibLVLVP5EVt4ZbY9VEvv60LVwUv │\n",
       "│ 3   │ T3     │ Nk3PtvLTVhsvKSAgFNDAzcwlp4G6q0PKUuQOt98lmPZ57cY0Dn │\n",
       "│ 4   │ T3     │ xVovCDnxQjt8zzytkSNiqeFpIIrKtqVmQQiZ0zVMyVIDO0n82W │\n",
       "│ 5   │ T3     │ fXLny2rPt1Bt3FUhZde8CpmjH5zGmSViLiGN6RP3jCVSkJoPWU │\n",
       "│ 6   │ T3     │ Di4w6KMs6EWhfIlrzP9oaWPuL6lQmgNYE7A8swjUIxKs78wHk1 │\n",
       "│ 7   │ T3     │ TFGPpl3rpMtKtf9yZs2mF3fgCXPsMmFnTQA5atrdssf0YFmvBC │\n",
       "│ 8   │ T3     │ 4RuRpM3SBKPO06EXQIuAshXZo3P2OfIbNBDsVwDY5UYAtc3qJG │\n",
       "│ 9   │ T3     │ iKFsDof9lzNBKRB90ChxmLU4JDQQlaiy6XQQbr3KXeIxi6RoRd │\n",
       "│ 10  │ T3     │ udEUVaI2664BtyDXbKsNJIViBWskm9GpYsAhO9XioEU7A5y5t9 │"
      ]
     },
     "execution_count": 14,
     "metadata": {},
     "output_type": "execute_result"
    }
   ],
   "source": [
    "gdf = groupby(df, :team)"
   ]
  },
  {
   "cell_type": "markdown",
   "id": "f510ef31",
   "metadata": {},
   "source": [
    "We can get the desired output like this:"
   ]
  },
  {
   "cell_type": "code",
   "execution_count": 21,
   "id": "b0061dea",
   "metadata": {},
   "outputs": [
    {
     "name": "stdout",
     "output_type": "stream",
     "text": [
      "fCpLbR3BViZGPL5jkDXSGpiMXOAZXubK7ALObZPrEURE2alXeM\n",
      "\n",
      "jmsZGeEFAP7FG4hF5imUoMf50Ukfd6jyFdBtqKsqRy3WNoIe5f\n",
      "\n",
      "3y380I1Xi6PSrJxOePqaTAhAAVMgjnNJDFsfOWNZA6HrT1mbd7\n",
      "\n",
      "mVItH2srrIwCpoR6CuKr15ibvkX57YFcXiLOP0irpnlQrdwH3O\n",
      "\n",
      "pZCkk1eNYxugoSEs6SoP06ouXawg75Vy50AR0X6qUNQcaOWjLB\n",
      "\n",
      "KSmmwC3wgww14BZof5Odc9PF5xb9mZhytIGGFfRUObmr1KIkQ3\n",
      "\n",
      "SB3bIs2eQ4hwKew1mIqETAbVXgAF20liGnefSFQRaHFxIUdZJP\n",
      "\n",
      "3VZ9uGFcI7bp8Rh8PJa4rgIOa9Gz1tvVfmQBJ30OczdFrckJnK\n",
      "\n",
      "SHrPq2ghvOKzsEAQ7bxzzvaPesD47fkmUb3Bulhwecx7TDhTEz\n",
      "\n",
      "J96MU9WO6pRac9JFlNX7LHtM9DeuhTsH2sYaWCQE2KhpCW0gmo\n",
      "\n"
     ]
    }
   ],
   "source": [
    "for i in gdf[1].comments\n",
    "    println(string(i, \"\\n\"))\n",
    "end"
   ]
  },
  {
   "cell_type": "markdown",
   "id": "4e200b7a",
   "metadata": {},
   "source": [
    "## Solution\n",
    "\n",
    "Here is the script to do the job. The idea came from https://discourse.julialang.org/t/printing-an-array-into-a-text-file/14101/9"
   ]
  },
  {
   "cell_type": "code",
   "execution_count": 19,
   "id": "da961d02",
   "metadata": {},
   "outputs": [],
   "source": [
    "for df in gdf\n",
    "    teamName = df.team[end]\n",
    "    outfile = \"$teamName.txt\"\n",
    "    open(outfile, \"w\") do f\n",
    "        for i in df.comments\n",
    "            println(f, string(i, \"\\n\"))\n",
    "        end\n",
    "    end\n",
    "end"
   ]
  }
 ],
 "metadata": {
  "kernelspec": {
   "display_name": "Julia 1.6.3",
   "language": "julia",
   "name": "julia-1.6"
  },
  "language_info": {
   "file_extension": ".jl",
   "mimetype": "application/julia",
   "name": "julia",
   "version": "1.6.3"
  }
 },
 "nbformat": 4,
 "nbformat_minor": 5
}
