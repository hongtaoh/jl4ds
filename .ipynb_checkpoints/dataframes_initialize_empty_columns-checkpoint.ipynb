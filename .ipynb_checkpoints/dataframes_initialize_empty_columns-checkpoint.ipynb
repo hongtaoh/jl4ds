{
 "cells": [
  {
   "cell_type": "markdown",
   "id": "ee40ac6b",
   "metadata": {},
   "source": [
    "# How to initialize empty columns in a dataframe\n",
    "\n",
    "Sometimes, in dealing with dataframes, we need to initialize empty columns to be filled later. "
   ]
  },
  {
   "cell_type": "code",
   "execution_count": 43,
   "id": "d684e76f",
   "metadata": {},
   "outputs": [],
   "source": [
    "using DataFrames"
   ]
  },
  {
   "cell_type": "code",
   "execution_count": 52,
   "id": "acc96907",
   "metadata": {},
   "outputs": [
    {
     "data": {
      "text/html": [
       "<table class=\"data-frame\"><thead><tr><th></th><th>name</th><th>var1</th><th>var2</th></tr><tr><th></th><th>String</th><th>Int64</th><th>Int64</th></tr></thead><tbody><p>4 rows × 3 columns</p><tr><th>1</th><td>Julia</td><td>2</td><td>9</td></tr><tr><th>2</th><td>Mike</td><td>3</td><td>3</td></tr><tr><th>3</th><td>Tom</td><td>4</td><td>6</td></tr><tr><th>4</th><td>John</td><td>7</td><td>5</td></tr></tbody></table>"
      ],
      "text/latex": [
       "\\begin{tabular}{r|ccc}\n",
       "\t& name & var1 & var2\\\\\n",
       "\t\\hline\n",
       "\t& String & Int64 & Int64\\\\\n",
       "\t\\hline\n",
       "\t1 & Julia & 2 & 9 \\\\\n",
       "\t2 & Mike & 3 & 3 \\\\\n",
       "\t3 & Tom & 4 & 6 \\\\\n",
       "\t4 & John & 7 & 5 \\\\\n",
       "\\end{tabular}\n"
      ],
      "text/plain": [
       "4×3 DataFrame\n",
       "│ Row │ name   │ var1  │ var2  │\n",
       "│     │ \u001b[90mString\u001b[39m │ \u001b[90mInt64\u001b[39m │ \u001b[90mInt64\u001b[39m │\n",
       "├─────┼────────┼───────┼───────┤\n",
       "│ 1   │ Julia  │ 2     │ 9     │\n",
       "│ 2   │ Mike   │ 3     │ 3     │\n",
       "│ 3   │ Tom    │ 4     │ 6     │\n",
       "│ 4   │ John   │ 7     │ 5     │"
      ]
     },
     "execution_count": 52,
     "metadata": {},
     "output_type": "execute_result"
    }
   ],
   "source": [
    "name = [\"Julia\", \"Mike\", \"Tom\", \"John\"]\n",
    "x = [2, 3, 4, 7]\n",
    "y = [9, 3, 6, 5]\n",
    "df = DataFrame(:name => name, :var1 => x, :var2 => y)"
   ]
  },
  {
   "cell_type": "markdown",
   "id": "51b00d9f",
   "metadata": {},
   "source": [
    "Now, we want an empty column called `var3`. How can we do that?\n",
    "\n",
    "It's easy to initialize an empty vector: `v = Vector[]`. However, doing this will throw an error in a `df` because we need to specify the length of this vector:"
   ]
  },
  {
   "cell_type": "code",
   "execution_count": 53,
   "id": "19f0ea50",
   "metadata": {
    "scrolled": true
   },
   "outputs": [
    {
     "ename": "LoadError",
     "evalue": "ArgumentError: New columns must have the same length as old columns",
     "output_type": "error",
     "traceback": [
      "ArgumentError: New columns must have the same length as old columns",
      "",
      "Stacktrace:",
      " [1] insert_single_column!(df::DataFrame, v::Vector{Vector{T} where T}, col_ind::Symbol)",
      "   @ DataFrames ~/.julia/packages/DataFrames/GtZ1l/src/dataframe/dataframe.jl:496",
      " [2] setindex!",
      "   @ ~/.julia/packages/DataFrames/GtZ1l/src/dataframe/dataframe.jl:544 [inlined]",
      " [3] setindex!(df::DataFrame, v::Vector{Vector{T} where T}, row_inds::Colon, col_ind::Symbol)",
      "   @ DataFrames ~/.julia/packages/DataFrames/GtZ1l/src/dataframe/dataframe.jl:589",
      " [4] top-level scope",
      "   @ In[53]:1",
      " [5] eval",
      "   @ ./boot.jl:360 [inlined]",
      " [6] include_string(mapexpr::typeof(REPL.softscope), mod::Module, code::String, filename::String)",
      "   @ Base ./loading.jl:1116"
     ]
    }
   ],
   "source": [
    "df[:, :var3] = Vector[]"
   ]
  },
  {
   "cell_type": "markdown",
   "id": "a0ff41d6",
   "metadata": {},
   "source": [
    "This is how we solve it:"
   ]
  },
  {
   "cell_type": "code",
   "execution_count": 54,
   "id": "d2673d47",
   "metadata": {},
   "outputs": [
    {
     "data": {
      "text/plain": [
       "4-element Vector{String}:\n",
       " #undef\n",
       " #undef\n",
       " #undef\n",
       " #undef"
      ]
     },
     "execution_count": 54,
     "metadata": {},
     "output_type": "execute_result"
    }
   ],
   "source": [
    "df[:, :var3] = Vector{String}(undef, size(df)[1])"
   ]
  },
  {
   "cell_type": "code",
   "execution_count": 55,
   "id": "91abf874",
   "metadata": {},
   "outputs": [
    {
     "data": {
      "text/html": [
       "<table class=\"data-frame\"><thead><tr><th></th><th>name</th><th>var1</th><th>var2</th><th>var3</th></tr><tr><th></th><th>String</th><th>Int64</th><th>Int64</th><th>String</th></tr></thead><tbody><p>4 rows × 4 columns</p><tr><th>1</th><td>Julia</td><td>2</td><td>9</td><td><em>#undef</em></td></tr><tr><th>2</th><td>Mike</td><td>3</td><td>3</td><td><em>#undef</em></td></tr><tr><th>3</th><td>Tom</td><td>4</td><td>6</td><td><em>#undef</em></td></tr><tr><th>4</th><td>John</td><td>7</td><td>5</td><td><em>#undef</em></td></tr></tbody></table>"
      ],
      "text/latex": [
       "\\begin{tabular}{r|cccc}\n",
       "\t& name & var1 & var2 & var3\\\\\n",
       "\t\\hline\n",
       "\t& String & Int64 & Int64 & String\\\\\n",
       "\t\\hline\n",
       "\t1 & Julia & 2 & 9 & \\emph{\\#undef} \\\\\n",
       "\t2 & Mike & 3 & 3 & \\emph{\\#undef} \\\\\n",
       "\t3 & Tom & 4 & 6 & \\emph{\\#undef} \\\\\n",
       "\t4 & John & 7 & 5 & \\emph{\\#undef} \\\\\n",
       "\\end{tabular}\n"
      ],
      "text/plain": [
       "4×4 DataFrame\n",
       "│ Row │ name   │ var1  │ var2  │ var3   │\n",
       "│     │ \u001b[90mString\u001b[39m │ \u001b[90mInt64\u001b[39m │ \u001b[90mInt64\u001b[39m │ \u001b[90mString\u001b[39m │\n",
       "├─────┼────────┼───────┼───────┼────────┤\n",
       "│ 1   │ Julia  │ 2     │ 9     │ \u001b[90m#undef\u001b[39m │\n",
       "│ 2   │ Mike   │ 3     │ 3     │ \u001b[90m#undef\u001b[39m │\n",
       "│ 3   │ Tom    │ 4     │ 6     │ \u001b[90m#undef\u001b[39m │\n",
       "│ 4   │ John   │ 7     │ 5     │ \u001b[90m#undef\u001b[39m │"
      ]
     },
     "execution_count": 55,
     "metadata": {},
     "output_type": "execute_result"
    }
   ],
   "source": [
    "df"
   ]
  },
  {
   "cell_type": "markdown",
   "id": "d578f5c7",
   "metadata": {},
   "source": [
    "## How to add multiple columns with a `Tuple`\n",
    "\n",
    "Sometimes, we want to add multiple columns. We can accomplish this with tuples very easily. \n",
    "\n",
    "We can first create a tuple of tuples:"
   ]
  },
  {
   "cell_type": "code",
   "execution_count": 56,
   "id": "b28235a3",
   "metadata": {},
   "outputs": [
    {
     "data": {
      "text/plain": [
       "((:var4, String), (:var5, Union{Missing, Int64}), (:var6, Union{Missing, String}))"
      ]
     },
     "execution_count": 56,
     "metadata": {},
     "output_type": "execute_result"
    }
   ],
   "source": [
    "vAndT = ((:var4, String), (:var5, Union{Missing, Int64}), (:var6, Union{Missing, String}))\n",
    "# v stands for variable, t stands for type"
   ]
  },
  {
   "cell_type": "code",
   "execution_count": 57,
   "id": "e1f9c99d",
   "metadata": {},
   "outputs": [
    {
     "data": {
      "text/plain": [
       "Tuple{Tuple{Symbol, DataType}, Tuple{Symbol, Union}, Tuple{Symbol, Union}}"
      ]
     },
     "execution_count": 57,
     "metadata": {},
     "output_type": "execute_result"
    }
   ],
   "source": [
    "typeof(vAndT)"
   ]
  },
  {
   "cell_type": "code",
   "execution_count": 58,
   "id": "200f04b0",
   "metadata": {},
   "outputs": [],
   "source": [
    "for (v, t) in vAndT\n",
    "    df[:, v] = Vector{t}(undef, size(df)[1])\n",
    "end"
   ]
  },
  {
   "cell_type": "code",
   "execution_count": 59,
   "id": "4fbfbbf1",
   "metadata": {},
   "outputs": [
    {
     "data": {
      "text/html": [
       "<table class=\"data-frame\"><thead><tr><th></th><th>name</th><th>var1</th><th>var2</th><th>var3</th><th>var4</th><th>var5</th><th>var6</th></tr><tr><th></th><th>String</th><th>Int64</th><th>Int64</th><th>String</th><th>String</th><th>Int64?</th><th>String?</th></tr></thead><tbody><p>4 rows × 7 columns</p><tr><th>1</th><td>Julia</td><td>2</td><td>9</td><td><em>#undef</em></td><td><em>#undef</em></td><td><em>missing</em></td><td><em>#undef</em></td></tr><tr><th>2</th><td>Mike</td><td>3</td><td>3</td><td><em>#undef</em></td><td><em>#undef</em></td><td><em>missing</em></td><td><em>#undef</em></td></tr><tr><th>3</th><td>Tom</td><td>4</td><td>6</td><td><em>#undef</em></td><td><em>#undef</em></td><td><em>missing</em></td><td><em>#undef</em></td></tr><tr><th>4</th><td>John</td><td>7</td><td>5</td><td><em>#undef</em></td><td><em>#undef</em></td><td><em>missing</em></td><td><em>#undef</em></td></tr></tbody></table>"
      ],
      "text/latex": [
       "\\begin{tabular}{r|ccccccc}\n",
       "\t& name & var1 & var2 & var3 & var4 & var5 & var6\\\\\n",
       "\t\\hline\n",
       "\t& String & Int64 & Int64 & String & String & Int64? & String?\\\\\n",
       "\t\\hline\n",
       "\t1 & Julia & 2 & 9 & \\emph{\\#undef} & \\emph{\\#undef} & \\emph{missing} & \\emph{\\#undef} \\\\\n",
       "\t2 & Mike & 3 & 3 & \\emph{\\#undef} & \\emph{\\#undef} & \\emph{missing} & \\emph{\\#undef} \\\\\n",
       "\t3 & Tom & 4 & 6 & \\emph{\\#undef} & \\emph{\\#undef} & \\emph{missing} & \\emph{\\#undef} \\\\\n",
       "\t4 & John & 7 & 5 & \\emph{\\#undef} & \\emph{\\#undef} & \\emph{missing} & \\emph{\\#undef} \\\\\n",
       "\\end{tabular}\n"
      ],
      "text/plain": [
       "4×7 DataFrame\n",
       "│ Row │ name   │ var1  │ var2  │ var3   │ var4   │ var5    │ var6    │\n",
       "│     │ \u001b[90mString\u001b[39m │ \u001b[90mInt64\u001b[39m │ \u001b[90mInt64\u001b[39m │ \u001b[90mString\u001b[39m │ \u001b[90mString\u001b[39m │ \u001b[90mInt64?\u001b[39m  │ \u001b[90mString?\u001b[39m │\n",
       "├─────┼────────┼───────┼───────┼────────┼────────┼─────────┼─────────┤\n",
       "│ 1   │ Julia  │ 2     │ 9     │ \u001b[90m#undef\u001b[39m │ \u001b[90m#undef\u001b[39m │ \u001b[90mmissing\u001b[39m │ \u001b[90m#undef\u001b[39m  │\n",
       "│ 2   │ Mike   │ 3     │ 3     │ \u001b[90m#undef\u001b[39m │ \u001b[90m#undef\u001b[39m │ \u001b[90mmissing\u001b[39m │ \u001b[90m#undef\u001b[39m  │\n",
       "│ 3   │ Tom    │ 4     │ 6     │ \u001b[90m#undef\u001b[39m │ \u001b[90m#undef\u001b[39m │ \u001b[90mmissing\u001b[39m │ \u001b[90m#undef\u001b[39m  │\n",
       "│ 4   │ John   │ 7     │ 5     │ \u001b[90m#undef\u001b[39m │ \u001b[90m#undef\u001b[39m │ \u001b[90mmissing\u001b[39m │ \u001b[90m#undef\u001b[39m  │"
      ]
     },
     "execution_count": 59,
     "metadata": {},
     "output_type": "execute_result"
    }
   ],
   "source": [
    "df"
   ]
  }
 ],
 "metadata": {
  "kernelspec": {
   "display_name": "Julia 1.6.3",
   "language": "julia",
   "name": "julia-1.6"
  },
  "language_info": {
   "file_extension": ".jl",
   "mimetype": "application/julia",
   "name": "julia",
   "version": "1.6.3"
  }
 },
 "nbformat": 4,
 "nbformat_minor": 5
}
