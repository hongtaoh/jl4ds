{
 "cells": [
  {
   "cell_type": "markdown",
   "id": "3ad51de8",
   "metadata": {},
   "source": [
    "# Working with strings: `split`, `string` and `join` \n",
    "\n",
    "Let's say you have this:\n",
    "\n",
    "```julia\n",
    "words = \"a, good, day, starts, with, an, apple\"\n",
    "```\n",
    "\n",
    "And you want it to become this:\n",
    "\n",
    "```julia\n",
    "words_new = \"#a\\b|#good\\b|#day\\b|#starts\\b|#with\\b|#an\\b|#apple\\b\"\n",
    "```\n",
    "\n",
    "Basically, you want \n",
    "  - Remove the commas in `words` \n",
    "  - Let every word in `words` start with `#` and end with `\\b`. \n",
    "  - Each word will be seperated by `|`.\n",
    "\n",
    "How to do this task?\n",
    "\n",
    "You need to use `string` and `join`.\n"
   ]
  },
  {
   "cell_type": "code",
   "execution_count": 16,
   "id": "c983703d",
   "metadata": {},
   "outputs": [
    {
     "data": {
      "text/plain": [
       "\"a, good, day, starts, with, an, apple\""
      ]
     },
     "execution_count": 16,
     "metadata": {},
     "output_type": "execute_result"
    }
   ],
   "source": [
    "words = \"a, good, day, starts, with, an, apple\""
   ]
  },
  {
   "cell_type": "markdown",
   "id": "00d9ad19",
   "metadata": {},
   "source": [
    "## `split`\n",
    "\n",
    "First, lets try split `words`. What the [`split`](https://docs.julialang.org/en/v1/base/strings/#Base.split) function does is to split a string \"into an array of substrings on occurrences of the delimiter(s)\""
   ]
  },
  {
   "cell_type": "code",
   "execution_count": 17,
   "id": "4a1c76ca",
   "metadata": {},
   "outputs": [
    {
     "data": {
      "text/plain": [
       "7-element Vector{SubString{String}}:\n",
       " \"a\"\n",
       " \" good\"\n",
       " \" day\"\n",
       " \" starts\"\n",
       " \" with\"\n",
       " \" an\"\n",
       " \" apple\""
      ]
     },
     "execution_count": 17,
     "metadata": {},
     "output_type": "execute_result"
    }
   ],
   "source": [
    "words_splited = split(words, \",\")"
   ]
  },
  {
   "cell_type": "markdown",
   "id": "51a63db0",
   "metadata": {},
   "source": [
    "You can see that, the result is a vector of substrings, as the documentation above mentioned. However, this result is a little bit different from what we are expecting: we don't want the space before a word. And that's easy to solve:"
   ]
  },
  {
   "cell_type": "code",
   "execution_count": 18,
   "id": "83369eb6",
   "metadata": {},
   "outputs": [
    {
     "data": {
      "text/plain": [
       "7-element Vector{SubString{String}}:\n",
       " \"a\"\n",
       " \"good\"\n",
       " \"day\"\n",
       " \"starts\"\n",
       " \"with\"\n",
       " \"an\"\n",
       " \"apple\""
      ]
     },
     "execution_count": 18,
     "metadata": {},
     "output_type": "execute_result"
    }
   ],
   "source": [
    "words_splited = split(words, \", \")"
   ]
  },
  {
   "cell_type": "markdown",
   "id": "c53a3637",
   "metadata": {},
   "source": [
    "## [`string`](https://docs.julialang.org/en/v1/base/strings/#Base.string)"
   ]
  },
  {
   "cell_type": "markdown",
   "id": "4e6b0a98",
   "metadata": {},
   "source": [
    "Then, we need the [`string`](https://docs.julialang.org/en/v1/base/strings/#Base.string) function to let every word start with `#` and end with `\\b`:"
   ]
  },
  {
   "cell_type": "code",
   "execution_count": 19,
   "id": "f67b28ca",
   "metadata": {},
   "outputs": [],
   "source": [
    "words_concated = String[] # initiate a vector of strings\n",
    "for i in words_splited\n",
    "    push!(words_concated, string(\"#\", i, \"\\b\"))\n",
    "end"
   ]
  },
  {
   "cell_type": "markdown",
   "id": "6ea48947",
   "metadata": {},
   "source": [
    "In fact, we can do **without** a `for` loop:"
   ]
  },
  {
   "cell_type": "code",
   "execution_count": 20,
   "id": "aa2751df",
   "metadata": {},
   "outputs": [
    {
     "data": {
      "text/plain": [
       "7-element Vector{String}:\n",
       " \"#a\\b\"\n",
       " \"#good\\b\"\n",
       " \"#day\\b\"\n",
       " \"#starts\\b\"\n",
       " \"#with\\b\"\n",
       " \"#an\\b\"\n",
       " \"#apple\\b\""
      ]
     },
     "execution_count": 20,
     "metadata": {},
     "output_type": "execute_result"
    }
   ],
   "source": [
    "words_concated = [string(\"#\", i, \"\\b\") for i in words_splited]"
   ]
  },
  {
   "cell_type": "code",
   "execution_count": 21,
   "id": "108aabf2",
   "metadata": {},
   "outputs": [
    {
     "data": {
      "text/plain": [
       "7-element Vector{String}:\n",
       " \"#a\\b\"\n",
       " \"#good\\b\"\n",
       " \"#day\\b\"\n",
       " \"#starts\\b\"\n",
       " \"#with\\b\"\n",
       " \"#an\\b\"\n",
       " \"#apple\\b\""
      ]
     },
     "execution_count": 21,
     "metadata": {},
     "output_type": "execute_result"
    }
   ],
   "source": [
    "words_concated"
   ]
  },
  {
   "cell_type": "markdown",
   "id": "8152db3e",
   "metadata": {},
   "source": [
    "## [`join`](https://docs.julialang.org/en/v1/base/strings/#Base.join)"
   ]
  },
  {
   "cell_type": "markdown",
   "id": "a725b97f",
   "metadata": {},
   "source": [
    "Now we have a vector of strings. To get the desired output, we simply need to join them into a single string:"
   ]
  },
  {
   "cell_type": "code",
   "execution_count": 22,
   "id": "2beca218",
   "metadata": {},
   "outputs": [
    {
     "data": {
      "text/plain": [
       "\"#a\\b|#good\\b|#day\\b|#starts\\b|#with\\b|#an\\b|#apple\\b\""
      ]
     },
     "execution_count": 22,
     "metadata": {},
     "output_type": "execute_result"
    }
   ],
   "source": [
    "words_new = join(words_concated, \"|\")"
   ]
  },
  {
   "cell_type": "markdown",
   "id": "5196370c",
   "metadata": {},
   "source": [
    "## Practice\n",
    "\n",
    "Lets say you have this:"
   ]
  },
  {
   "cell_type": "code",
   "execution_count": 23,
   "id": "e464ad7f",
   "metadata": {},
   "outputs": [
    {
     "data": {
      "text/plain": [
       "4-element Vector{String}:\n",
       " \"John Smith\"\n",
       " \"Mark Lu\"\n",
       " \"Lily Park\"\n",
       " \"Jason Wong\""
      ]
     },
     "execution_count": 23,
     "metadata": {},
     "output_type": "execute_result"
    }
   ],
   "source": [
    "nameList = [\"John Smith\", \"Mark Lu\", \"Lily Park\", \"Jason Wong\"]"
   ]
  },
  {
   "cell_type": "markdown",
   "id": "c94242c6",
   "metadata": {},
   "source": [
    "How do you get this:"
   ]
  },
  {
   "cell_type": "code",
   "execution_count": 24,
   "id": "026763b4",
   "metadata": {},
   "outputs": [
    {
     "data": {
      "text/plain": [
       "\"#John Smit, #Mark Lu, #Lily Park, #Jason Wong\""
      ]
     },
     "execution_count": 24,
     "metadata": {},
     "output_type": "execute_result"
    }
   ],
   "source": [
    "nameString = \"#John Smit, #Mark Lu, #Lily Park, #Jason Wong\""
   ]
  },
  {
   "cell_type": "markdown",
   "id": "6a7e9d8d",
   "metadata": {},
   "source": [
    "Your answer:"
   ]
  }
 ],
 "metadata": {
  "kernelspec": {
   "display_name": "Julia 1.6.3",
   "language": "julia",
   "name": "julia-1.6"
  },
  "language_info": {
   "file_extension": ".jl",
   "mimetype": "application/julia",
   "name": "julia",
   "version": "1.6.3"
  }
 },
 "nbformat": 4,
 "nbformat_minor": 5
}
