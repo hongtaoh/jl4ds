{
 "cells": [
  {
   "cell_type": "markdown",
   "id": "60379aa0",
   "metadata": {},
   "source": [
    "# Length of a vector unevenly divided in a while loop\n",
    "\n",
    "Suppose you have a vector: `a = [1, 2, 3, 4, 5]`. In `python`, if you run `a[4:8]`, you will get the last two elements. However, doing this in `Julia` will give you an error. This will pose a problem for a while loop in a vector whose length can not be evenly divided. For example, you want to use `a[i:i+2]` in this case. \n",
    "\n",
    "The solution is to check whether `i+2 < length(a)`, if yes, go ahead with `a[i:i+2]`. If not, we can use `a[i:end]`. "
   ]
  },
  {
   "cell_type": "code",
   "execution_count": 30,
   "id": "4f660cbc",
   "metadata": {},
   "outputs": [],
   "source": [
    "using Random"
   ]
  },
  {
   "cell_type": "code",
   "execution_count": 31,
   "id": "73c7d2fc",
   "metadata": {},
   "outputs": [
    {
     "data": {
      "text/plain": [
       "MersenneTwister(1234)"
      ]
     },
     "execution_count": 31,
     "metadata": {},
     "output_type": "execute_result"
    }
   ],
   "source": [
    "Random.seed!(1234)"
   ]
  },
  {
   "cell_type": "code",
   "execution_count": 32,
   "id": "0c3140ad",
   "metadata": {},
   "outputs": [
    {
     "data": {
      "text/plain": [
       "6-element Vector{Float64}:\n",
       " 0.5908446386657102\n",
       " 0.7667970365022592\n",
       " 0.5662374165061859\n",
       " 0.4600853424625171\n",
       " 0.7940257103317943\n",
       " 0.8541465903790502"
      ]
     },
     "execution_count": 32,
     "metadata": {},
     "output_type": "execute_result"
    }
   ],
   "source": [
    "a = rand(6)"
   ]
  },
  {
   "cell_type": "code",
   "execution_count": 33,
   "id": "b66f6d99",
   "metadata": {},
   "outputs": [
    {
     "data": {
      "text/plain": [
       "4-element Vector{Float64}:\n",
       " 0.5908446386657102\n",
       " 0.7667970365022592\n",
       " 0.5662374165061859\n",
       " 0.4600853424625171"
      ]
     },
     "execution_count": 33,
     "metadata": {},
     "output_type": "execute_result"
    }
   ],
   "source": [
    "a[1:4]"
   ]
  },
  {
   "cell_type": "markdown",
   "id": "6f5d6634",
   "metadata": {},
   "source": [
    "See how directly using `a[i:i+3]` throws an error:"
   ]
  },
  {
   "cell_type": "code",
   "execution_count": 34,
   "id": "36b2a676",
   "metadata": {},
   "outputs": [
    {
     "name": "stdout",
     "output_type": "stream",
     "text": [
      "[0.5908446386657102, 0.7667970365022592, 0.5662374165061859, 0.4600853424625171]\n"
     ]
    },
    {
     "ename": "LoadError",
     "evalue": "BoundsError: attempt to access 6-element Vector{Float64} at index [5:8]",
     "output_type": "error",
     "traceback": [
      "BoundsError: attempt to access 6-element Vector{Float64} at index [5:8]",
      "",
      "Stacktrace:",
      " [1] throw_boundserror(A::Vector{Float64}, I::Tuple{UnitRange{Int64}})",
      "   @ Base ./abstractarray.jl:651",
      " [2] checkbounds",
      "   @ ./abstractarray.jl:616 [inlined]",
      " [3] getindex(A::Vector{Float64}, I::UnitRange{Int64})",
      "   @ Base ./array.jl:811",
      " [4] top-level scope",
      "   @ ./In[34]:3",
      " [5] eval",
      "   @ ./boot.jl:360 [inlined]",
      " [6] include_string(mapexpr::typeof(REPL.softscope), mod::Module, code::String, filename::String)",
      "   @ Base ./loading.jl:1116"
     ]
    }
   ],
   "source": [
    "i = 1\n",
    "while i < length(a)\n",
    "    println(a[i: i+3])\n",
    "    i = i+4\n",
    "end"
   ]
  },
  {
   "cell_type": "markdown",
   "id": "786c78f5",
   "metadata": {},
   "source": [
    "A solution:"
   ]
  },
  {
   "cell_type": "code",
   "execution_count": 35,
   "id": "8ca9b116",
   "metadata": {},
   "outputs": [
    {
     "name": "stdout",
     "output_type": "stream",
     "text": [
      "[0.5908446386657102, 0.7667970365022592, 0.5662374165061859, 0.4600853424625171]\n",
      "[0.7940257103317943, 0.8541465903790502]\n"
     ]
    }
   ],
   "source": [
    "i = 1\n",
    "while i < length(a)\n",
    "    if i+3 < length(a)\n",
    "        println(a[i:i+3])\n",
    "    else\n",
    "        println(a[i:end])\n",
    "    end\n",
    "    i = i+4\n",
    "end"
   ]
  },
  {
   "cell_type": "markdown",
   "id": "e9b2de67",
   "metadata": {},
   "source": [
    "You can apply the above method even if you are using `a[i:i+4]`. This is because"
   ]
  },
  {
   "cell_type": "code",
   "execution_count": 36,
   "id": "aefe1bef",
   "metadata": {},
   "outputs": [
    {
     "data": {
      "text/plain": [
       "1-element Vector{Float64}:\n",
       " 0.8541465903790502"
      ]
     },
     "execution_count": 36,
     "metadata": {},
     "output_type": "execute_result"
    }
   ],
   "source": [
    "a[6:end]"
   ]
  }
 ],
 "metadata": {
  "kernelspec": {
   "display_name": "Julia 1.6.3",
   "language": "julia",
   "name": "julia-1.6"
  },
  "language_info": {
   "file_extension": ".jl",
   "mimetype": "application/julia",
   "name": "julia",
   "version": "1.6.3"
  }
 },
 "nbformat": 4,
 "nbformat_minor": 5
}
