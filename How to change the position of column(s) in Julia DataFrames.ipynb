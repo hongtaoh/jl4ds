{
 "cells": [
  {
   "cell_type": "markdown",
   "id": "04ae0ae9",
   "metadata": {},
   "source": [
    "# How to change the position of column(s) in a Julia Data Frame\n",
    "\n",
    "We will use `select` or `select!` function. \n",
    "\n",
    "Here are the sources of information I found:\n",
    "\n",
    "- https://discourse.julialang.org/t/pull-dataframes-columns-to-the-front/60327/3\n",
    "- https://stackoverflow.com/a/66315541\n",
    "- https://github.com/JuliaData/DataFrames.jl/issues/2631"
   ]
  },
  {
   "cell_type": "code",
   "execution_count": 33,
   "id": "e076eb8e",
   "metadata": {},
   "outputs": [],
   "source": [
    "using DataFrames"
   ]
  },
  {
   "cell_type": "code",
   "execution_count": 34,
   "id": "ad15458b",
   "metadata": {},
   "outputs": [
    {
     "data": {
      "text/html": [
       "<table class=\"data-frame\"><thead><tr><th></th><th>A</th><th>B</th><th>C</th><th>D</th><th>E</th></tr><tr><th></th><th>Int64</th><th>String</th><th>Int64</th><th>String</th><th>Int64</th></tr></thead><tbody><p>3 rows × 5 columns</p><tr><th>1</th><td>1</td><td>a</td><td>4</td><td>d</td><td>7</td></tr><tr><th>2</th><td>2</td><td>b</td><td>5</td><td>e</td><td>8</td></tr><tr><th>3</th><td>3</td><td>c</td><td>6</td><td>f</td><td>9</td></tr></tbody></table>"
      ],
      "text/latex": [
       "\\begin{tabular}{r|ccccc}\n",
       "\t& A & B & C & D & E\\\\\n",
       "\t\\hline\n",
       "\t& Int64 & String & Int64 & String & Int64\\\\\n",
       "\t\\hline\n",
       "\t1 & 1 & a & 4 & d & 7 \\\\\n",
       "\t2 & 2 & b & 5 & e & 8 \\\\\n",
       "\t3 & 3 & c & 6 & f & 9 \\\\\n",
       "\\end{tabular}\n"
      ],
      "text/plain": [
       "\u001b[1m3×5 DataFrame\u001b[0m\n",
       "\u001b[1m Row \u001b[0m│\u001b[1m A     \u001b[0m\u001b[1m B      \u001b[0m\u001b[1m C     \u001b[0m\u001b[1m D      \u001b[0m\u001b[1m E     \u001b[0m\n",
       "\u001b[1m     \u001b[0m│\u001b[90m Int64 \u001b[0m\u001b[90m String \u001b[0m\u001b[90m Int64 \u001b[0m\u001b[90m String \u001b[0m\u001b[90m Int64 \u001b[0m\n",
       "─────┼─────────────────────────────────────\n",
       "   1 │     1  a           4  d           7\n",
       "   2 │     2  b           5  e           8\n",
       "   3 │     3  c           6  f           9"
      ]
     },
     "execution_count": 34,
     "metadata": {},
     "output_type": "execute_result"
    }
   ],
   "source": [
    "df = DataFrame(:A => [1, 2, 3], \n",
    "    :B => [\"a\", \"b\", \"c\"], \n",
    "    :C => [4, 5, 6], \n",
    "    :D => [\"d\", \"e\", \"f\"],\n",
    "    :E => [7, 8, 9]\n",
    ")"
   ]
  },
  {
   "cell_type": "markdown",
   "id": "fd2c1bf7",
   "metadata": {},
   "source": [
    "## 1: To move column B to the end"
   ]
  },
  {
   "cell_type": "code",
   "execution_count": 35,
   "id": "4a237fb5",
   "metadata": {},
   "outputs": [
    {
     "data": {
      "text/html": [
       "<table class=\"data-frame\"><thead><tr><th></th><th>A</th><th>C</th><th>D</th><th>E</th><th>B</th></tr><tr><th></th><th>Int64</th><th>Int64</th><th>String</th><th>Int64</th><th>String</th></tr></thead><tbody><p>3 rows × 5 columns</p><tr><th>1</th><td>1</td><td>4</td><td>d</td><td>7</td><td>a</td></tr><tr><th>2</th><td>2</td><td>5</td><td>e</td><td>8</td><td>b</td></tr><tr><th>3</th><td>3</td><td>6</td><td>f</td><td>9</td><td>c</td></tr></tbody></table>"
      ],
      "text/latex": [
       "\\begin{tabular}{r|ccccc}\n",
       "\t& A & C & D & E & B\\\\\n",
       "\t\\hline\n",
       "\t& Int64 & Int64 & String & Int64 & String\\\\\n",
       "\t\\hline\n",
       "\t1 & 1 & 4 & d & 7 & a \\\\\n",
       "\t2 & 2 & 5 & e & 8 & b \\\\\n",
       "\t3 & 3 & 6 & f & 9 & c \\\\\n",
       "\\end{tabular}\n"
      ],
      "text/plain": [
       "\u001b[1m3×5 DataFrame\u001b[0m\n",
       "\u001b[1m Row \u001b[0m│\u001b[1m A     \u001b[0m\u001b[1m C     \u001b[0m\u001b[1m D      \u001b[0m\u001b[1m E     \u001b[0m\u001b[1m B      \u001b[0m\n",
       "\u001b[1m     \u001b[0m│\u001b[90m Int64 \u001b[0m\u001b[90m Int64 \u001b[0m\u001b[90m String \u001b[0m\u001b[90m Int64 \u001b[0m\u001b[90m String \u001b[0m\n",
       "─────┼─────────────────────────────────────\n",
       "   1 │     1      4  d           7  a\n",
       "   2 │     2      5  e           8  b\n",
       "   3 │     3      6  f           9  c"
      ]
     },
     "execution_count": 35,
     "metadata": {},
     "output_type": "execute_result"
    }
   ],
   "source": [
    "col = :B\n",
    "select(df, [1,3,4,5], col)"
   ]
  },
  {
   "cell_type": "markdown",
   "id": "0599561a",
   "metadata": {},
   "source": [
    "## 2: To move column B to the front"
   ]
  },
  {
   "cell_type": "code",
   "execution_count": 36,
   "id": "f7e28928",
   "metadata": {},
   "outputs": [
    {
     "data": {
      "text/html": [
       "<table class=\"data-frame\"><thead><tr><th></th><th>B</th><th>A</th><th>C</th><th>D</th><th>E</th></tr><tr><th></th><th>String</th><th>Int64</th><th>Int64</th><th>String</th><th>Int64</th></tr></thead><tbody><p>3 rows × 5 columns</p><tr><th>1</th><td>a</td><td>1</td><td>4</td><td>d</td><td>7</td></tr><tr><th>2</th><td>b</td><td>2</td><td>5</td><td>e</td><td>8</td></tr><tr><th>3</th><td>c</td><td>3</td><td>6</td><td>f</td><td>9</td></tr></tbody></table>"
      ],
      "text/latex": [
       "\\begin{tabular}{r|ccccc}\n",
       "\t& B & A & C & D & E\\\\\n",
       "\t\\hline\n",
       "\t& String & Int64 & Int64 & String & Int64\\\\\n",
       "\t\\hline\n",
       "\t1 & a & 1 & 4 & d & 7 \\\\\n",
       "\t2 & b & 2 & 5 & e & 8 \\\\\n",
       "\t3 & c & 3 & 6 & f & 9 \\\\\n",
       "\\end{tabular}\n"
      ],
      "text/plain": [
       "\u001b[1m3×5 DataFrame\u001b[0m\n",
       "\u001b[1m Row \u001b[0m│\u001b[1m B      \u001b[0m\u001b[1m A     \u001b[0m\u001b[1m C     \u001b[0m\u001b[1m D      \u001b[0m\u001b[1m E     \u001b[0m\n",
       "\u001b[1m     \u001b[0m│\u001b[90m String \u001b[0m\u001b[90m Int64 \u001b[0m\u001b[90m Int64 \u001b[0m\u001b[90m String \u001b[0m\u001b[90m Int64 \u001b[0m\n",
       "─────┼─────────────────────────────────────\n",
       "   1 │ a           1      4  d           7\n",
       "   2 │ b           2      5  e           8\n",
       "   3 │ c           3      6  f           9"
      ]
     },
     "execution_count": 36,
     "metadata": {},
     "output_type": "execute_result"
    }
   ],
   "source": [
    "select(df, col, :)"
   ]
  },
  {
   "cell_type": "markdown",
   "id": "8eb77a5e",
   "metadata": {},
   "source": [
    "## 3. To move column B and C together to the front"
   ]
  },
  {
   "cell_type": "code",
   "execution_count": 37,
   "id": "c072d603",
   "metadata": {},
   "outputs": [
    {
     "data": {
      "text/html": [
       "<table class=\"data-frame\"><thead><tr><th></th><th>B</th><th>C</th><th>A</th><th>D</th><th>E</th></tr><tr><th></th><th>String</th><th>Int64</th><th>Int64</th><th>String</th><th>Int64</th></tr></thead><tbody><p>3 rows × 5 columns</p><tr><th>1</th><td>a</td><td>4</td><td>1</td><td>d</td><td>7</td></tr><tr><th>2</th><td>b</td><td>5</td><td>2</td><td>e</td><td>8</td></tr><tr><th>3</th><td>c</td><td>6</td><td>3</td><td>f</td><td>9</td></tr></tbody></table>"
      ],
      "text/latex": [
       "\\begin{tabular}{r|ccccc}\n",
       "\t& B & C & A & D & E\\\\\n",
       "\t\\hline\n",
       "\t& String & Int64 & Int64 & String & Int64\\\\\n",
       "\t\\hline\n",
       "\t1 & a & 4 & 1 & d & 7 \\\\\n",
       "\t2 & b & 5 & 2 & e & 8 \\\\\n",
       "\t3 & c & 6 & 3 & f & 9 \\\\\n",
       "\\end{tabular}\n"
      ],
      "text/plain": [
       "\u001b[1m3×5 DataFrame\u001b[0m\n",
       "\u001b[1m Row \u001b[0m│\u001b[1m B      \u001b[0m\u001b[1m C     \u001b[0m\u001b[1m A     \u001b[0m\u001b[1m D      \u001b[0m\u001b[1m E     \u001b[0m\n",
       "\u001b[1m     \u001b[0m│\u001b[90m String \u001b[0m\u001b[90m Int64 \u001b[0m\u001b[90m Int64 \u001b[0m\u001b[90m String \u001b[0m\u001b[90m Int64 \u001b[0m\n",
       "─────┼─────────────────────────────────────\n",
       "   1 │ a           4      1  d           7\n",
       "   2 │ b           5      2  e           8\n",
       "   3 │ c           6      3  f           9"
      ]
     },
     "execution_count": 37,
     "metadata": {},
     "output_type": "execute_result"
    }
   ],
   "source": [
    "cols = [:B, :C]\n",
    "select(df, cols, :)"
   ]
  },
  {
   "cell_type": "markdown",
   "id": "b8701509",
   "metadata": {},
   "source": [
    "## 4. To move column C to the 2nd column"
   ]
  },
  {
   "cell_type": "code",
   "execution_count": 38,
   "id": "d047da3e",
   "metadata": {},
   "outputs": [
    {
     "data": {
      "text/html": [
       "<table class=\"data-frame\"><thead><tr><th></th><th>A</th><th>C</th><th>B</th><th>D</th><th>E</th></tr><tr><th></th><th>Int64</th><th>Int64</th><th>String</th><th>String</th><th>Int64</th></tr></thead><tbody><p>3 rows × 5 columns</p><tr><th>1</th><td>1</td><td>4</td><td>a</td><td>d</td><td>7</td></tr><tr><th>2</th><td>2</td><td>5</td><td>b</td><td>e</td><td>8</td></tr><tr><th>3</th><td>3</td><td>6</td><td>c</td><td>f</td><td>9</td></tr></tbody></table>"
      ],
      "text/latex": [
       "\\begin{tabular}{r|ccccc}\n",
       "\t& A & C & B & D & E\\\\\n",
       "\t\\hline\n",
       "\t& Int64 & Int64 & String & String & Int64\\\\\n",
       "\t\\hline\n",
       "\t1 & 1 & 4 & a & d & 7 \\\\\n",
       "\t2 & 2 & 5 & b & e & 8 \\\\\n",
       "\t3 & 3 & 6 & c & f & 9 \\\\\n",
       "\\end{tabular}\n"
      ],
      "text/plain": [
       "\u001b[1m3×5 DataFrame\u001b[0m\n",
       "\u001b[1m Row \u001b[0m│\u001b[1m A     \u001b[0m\u001b[1m C     \u001b[0m\u001b[1m B      \u001b[0m\u001b[1m D      \u001b[0m\u001b[1m E     \u001b[0m\n",
       "\u001b[1m     \u001b[0m│\u001b[90m Int64 \u001b[0m\u001b[90m Int64 \u001b[0m\u001b[90m String \u001b[0m\u001b[90m String \u001b[0m\u001b[90m Int64 \u001b[0m\n",
       "─────┼─────────────────────────────────────\n",
       "   1 │     1      4  a       d           7\n",
       "   2 │     2      5  b       e           8\n",
       "   3 │     3      6  c       f           9"
      ]
     },
     "execution_count": 38,
     "metadata": {},
     "output_type": "execute_result"
    }
   ],
   "source": [
    "select(df, 1, :C, :)"
   ]
  },
  {
   "cell_type": "markdown",
   "id": "b919b1d4",
   "metadata": {},
   "source": [
    "## Explanation\n",
    "\n",
    "By now, I hope you've already understood the mechanism. If we use `select(df, x, y, z)`, the output will have the order of `x, y, z`. And `:` in `select(df, 1, :C, :)` and all other expressions above means all the remaining columns not selected at that point. "
   ]
  }
 ],
 "metadata": {
  "kernelspec": {
   "display_name": "Julia 1.6.3",
   "language": "julia",
   "name": "julia-1.6"
  },
  "language_info": {
   "file_extension": ".jl",
   "mimetype": "application/julia",
   "name": "julia",
   "version": "1.6.3"
  }
 },
 "nbformat": 4,
 "nbformat_minor": 5
}
