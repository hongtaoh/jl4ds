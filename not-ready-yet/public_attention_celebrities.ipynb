{
 "cells": [
  {
   "cell_type": "markdown",
   "id": "ba818eb5",
   "metadata": {},
   "source": [
    "## Using Julia and PyCall to analyze public attention to deceased celebrities in early 2021\n",
    "\n",
    "This is a tutorial on Julia for data science. The following content is about how to use Julia and PyCall to obtain data from Google Trends about five celebrities who died in early 2021. We then analyze the data with StatsPlots.jl. \n",
    "\n",
    "First, load the packages and set the number of lines you want to display. "
   ]
  },
  {
   "cell_type": "code",
   "execution_count": 28,
   "id": "49f10c68",
   "metadata": {},
   "outputs": [],
   "source": [
    "using DataFrames, CSV, Dates, Pandas, Plots, PyCall"
   ]
  },
  {
   "cell_type": "code",
   "execution_count": 29,
   "id": "2519f780",
   "metadata": {},
   "outputs": [
    {
     "data": {
      "text/plain": [
       "1000"
      ]
     },
     "execution_count": 29,
     "metadata": {},
     "output_type": "execute_result"
    }
   ],
   "source": [
    "ENV[\"LINES\"] = 20\n",
    "ENV[\"COLUMNS\"] = 1000"
   ]
  },
  {
   "cell_type": "markdown",
   "id": "ee0142e3",
   "metadata": {},
   "source": [
    "I originally want to analyze ten people but it was a little bit complex so I am only analyzing five of them, two males, and three females."
   ]
  },
  {
   "cell_type": "code",
   "execution_count": 30,
   "id": "090cce8a",
   "metadata": {},
   "outputs": [
    {
     "data": {
      "text/html": [
       "<table class=\"data-frame\"><thead><tr><th></th><th>name</th><th>gender</th><th>death</th></tr><tr><th></th><th>String</th><th>String</th><th>String</th></tr></thead><tbody><p>5 rows × 3 columns</p><tr><th>1</th><td>Hank Aaron</td><td>male</td><td>2021-01-22</td></tr><tr><th>2</th><td>Cloris Leachman</td><td>female</td><td>2021-01-27</td></tr><tr><th>3</th><td>Christopher Plummer</td><td>male</td><td>2021-02-05</td></tr><tr><th>4</th><td>Tanya Roberts</td><td>female</td><td>2021-01-04</td></tr><tr><th>5</th><td>Cicely Tyson</td><td>female</td><td>2021-01-28</td></tr></tbody></table>"
      ],
      "text/latex": [
       "\\begin{tabular}{r|ccc}\n",
       "\t& name & gender & death\\\\\n",
       "\t\\hline\n",
       "\t& String & String & String\\\\\n",
       "\t\\hline\n",
       "\t1 & Hank Aaron & male & 2021-01-22 \\\\\n",
       "\t2 & Cloris Leachman & female & 2021-01-27 \\\\\n",
       "\t3 & Christopher Plummer & male & 2021-02-05 \\\\\n",
       "\t4 & Tanya Roberts & female & 2021-01-04 \\\\\n",
       "\t5 & Cicely Tyson & female & 2021-01-28 \\\\\n",
       "\\end{tabular}\n"
      ],
      "text/plain": [
       "5×3 DataFrame\n",
       "│ Row │ name                │ gender │ death      │\n",
       "│     │ \u001b[90mString\u001b[39m              │ \u001b[90mString\u001b[39m │ \u001b[90mString\u001b[39m     │\n",
       "├─────┼─────────────────────┼────────┼────────────┤\n",
       "│ 1   │ Hank Aaron          │ male   │ 2021-01-22 │\n",
       "│ 2   │ Cloris Leachman     │ female │ 2021-01-27 │\n",
       "│ 3   │ Christopher Plummer │ male   │ 2021-02-05 │\n",
       "│ 4   │ Tanya Roberts       │ female │ 2021-01-04 │\n",
       "│ 5   │ Cicely Tyson        │ female │ 2021-01-28 │"
      ]
     },
     "execution_count": 30,
     "metadata": {},
     "output_type": "execute_result"
    }
   ],
   "source": [
    "# https://www.insider.com/celebrities-who-have-died-this-year-2021-1\n",
    "name = [\"Hank Aaron\", \"Ed Asner\", \"Sonny Chiba\", \"Halyna Hutchins\", \"Cloris Leachman\", \"Helen McCrory\", \n",
    "    \"Prince Philip\", \"Christopher Plummer\", \"Tanya Roberts\", \"Cicely Tyson\"]\n",
    "gender = [\"male\", \"male\", \"male\", \"female\", \"female\", \"female\", \"male\", \"male\", \"female\", \"female\"]\n",
    "death_date = [\"2021-01-22\", \"2021-08-29\", \"2021-08-19\", \"2021-10-21\", \"2021-01-27\", \"2021-04-16\",\n",
    "    \"2021-04-09\", \"2021-02-05\", \"2021-01-04\", \"2021-01-28\"\n",
    "]\n",
    "df = DataFrames.DataFrame(:name => name, :gender => gender, :death => death_date)\n",
    "df = df[[1, 5, 8, 9, 10], :]"
   ]
  },
  {
   "cell_type": "markdown",
   "id": "158bd6f9",
   "metadata": {},
   "source": [
    "Now we use `PyCall` to import `pytrends`, since there is no such package for Julia now, unfortunately. "
   ]
  },
  {
   "cell_type": "code",
   "execution_count": 31,
   "id": "0e4bf0ac",
   "metadata": {},
   "outputs": [],
   "source": [
    "TrendReq = pyimport(\"pytrends.request\").TrendReq\n",
    "pytrends = TrendReq(hl=\"en-US\", tz=360)\n",
    "pytrends.build_payload(df.name, timeframe=\"2020-12-01 2021-08-01\")"
   ]
  },
  {
   "cell_type": "code",
   "execution_count": 32,
   "id": "4080e86b",
   "metadata": {},
   "outputs": [
    {
     "data": {
      "text/html": [
       "<div>\n",
       "<style scoped>\n",
       "    .dataframe tbody tr th:only-of-type {\n",
       "        vertical-align: middle;\n",
       "    }\n",
       "\n",
       "    .dataframe tbody tr th {\n",
       "        vertical-align: top;\n",
       "    }\n",
       "\n",
       "    .dataframe thead th {\n",
       "        text-align: right;\n",
       "    }\n",
       "</style>\n",
       "<table border=\"1\" class=\"dataframe\">\n",
       "  <thead>\n",
       "    <tr style=\"text-align: right;\">\n",
       "      <th></th>\n",
       "      <th>Hank Aaron</th>\n",
       "      <th>Cloris Leachman</th>\n",
       "      <th>Christopher Plummer</th>\n",
       "      <th>Tanya Roberts</th>\n",
       "      <th>Cicely Tyson</th>\n",
       "    </tr>\n",
       "    <tr>\n",
       "      <th>date</th>\n",
       "      <th></th>\n",
       "      <th></th>\n",
       "      <th></th>\n",
       "      <th></th>\n",
       "      <th></th>\n",
       "    </tr>\n",
       "  </thead>\n",
       "  <tbody>\n",
       "    <tr>\n",
       "      <th>2020-12-01</th>\n",
       "      <td>0</td>\n",
       "      <td>0</td>\n",
       "      <td>0</td>\n",
       "      <td>0</td>\n",
       "      <td>0</td>\n",
       "    </tr>\n",
       "    <tr>\n",
       "      <th>2020-12-02</th>\n",
       "      <td>0</td>\n",
       "      <td>0</td>\n",
       "      <td>0</td>\n",
       "      <td>0</td>\n",
       "      <td>0</td>\n",
       "    </tr>\n",
       "    <tr>\n",
       "      <th>2020-12-03</th>\n",
       "      <td>0</td>\n",
       "      <td>0</td>\n",
       "      <td>0</td>\n",
       "      <td>0</td>\n",
       "      <td>0</td>\n",
       "    </tr>\n",
       "    <tr>\n",
       "      <th>2020-12-04</th>\n",
       "      <td>0</td>\n",
       "      <td>0</td>\n",
       "      <td>0</td>\n",
       "      <td>0</td>\n",
       "      <td>0</td>\n",
       "    </tr>\n",
       "    <tr>\n",
       "      <th>2020-12-05</th>\n",
       "      <td>0</td>\n",
       "      <td>0</td>\n",
       "      <td>1</td>\n",
       "      <td>0</td>\n",
       "      <td>0</td>\n",
       "    </tr>\n",
       "    <tr>\n",
       "      <th>...</th>\n",
       "      <td>...</td>\n",
       "      <td>...</td>\n",
       "      <td>...</td>\n",
       "      <td>...</td>\n",
       "      <td>...</td>\n",
       "    </tr>\n",
       "    <tr>\n",
       "      <th>2021-07-28</th>\n",
       "      <td>0</td>\n",
       "      <td>0</td>\n",
       "      <td>0</td>\n",
       "      <td>0</td>\n",
       "      <td>0</td>\n",
       "    </tr>\n",
       "    <tr>\n",
       "      <th>2021-07-29</th>\n",
       "      <td>0</td>\n",
       "      <td>0</td>\n",
       "      <td>0</td>\n",
       "      <td>0</td>\n",
       "      <td>0</td>\n",
       "    </tr>\n",
       "    <tr>\n",
       "      <th>2021-07-30</th>\n",
       "      <td>0</td>\n",
       "      <td>0</td>\n",
       "      <td>0</td>\n",
       "      <td>0</td>\n",
       "      <td>0</td>\n",
       "    </tr>\n",
       "    <tr>\n",
       "      <th>2021-07-31</th>\n",
       "      <td>1</td>\n",
       "      <td>0</td>\n",
       "      <td>0</td>\n",
       "      <td>0</td>\n",
       "      <td>0</td>\n",
       "    </tr>\n",
       "    <tr>\n",
       "      <th>2021-08-01</th>\n",
       "      <td>1</td>\n",
       "      <td>0</td>\n",
       "      <td>0</td>\n",
       "      <td>0</td>\n",
       "      <td>0</td>\n",
       "    </tr>\n",
       "  </tbody>\n",
       "</table>\n",
       "<p>244 rows × 5 columns</p>\n",
       "</div>"
      ],
      "text/plain": [
       "PyObject             Hank Aaron  Cloris Leachman  Christopher Plummer  Tanya Roberts  Cicely Tyson\n",
       "date                                                                                     \n",
       "2020-12-01           0                0                    0              0             0\n",
       "2020-12-02           0                0                    0              0             0\n",
       "2020-12-03           0                0                    0              0             0\n",
       "2020-12-04           0                0                    0              0             0\n",
       "2020-12-05           0                0                    1              0             0\n",
       "...                ...              ...                  ...            ...           ...\n",
       "2021-07-28           0                0                    0              0             0\n",
       "2021-07-29           0                0                    0              0             0\n",
       "2021-07-30           0                0                    0              0             0\n",
       "2021-07-31           1                0                    0              0             0\n",
       "2021-08-01           1                0                    0              0             0\n",
       "\n",
       "[244 rows x 5 columns]"
      ]
     },
     "execution_count": 32,
     "metadata": {},
     "output_type": "execute_result"
    }
   ],
   "source": [
    "# To remove the column of `isPartial`\n",
    "trends_data = pytrends.interest_over_time().drop(\"isPartial\", 1)"
   ]
  },
  {
   "cell_type": "markdown",
   "id": "3c010879",
   "metadata": {},
   "source": [
    "Next, we first convert the above data into a Pandas dataframe, which is later converted to a DataFrames dataframe, named as `jdf`. We then transform `jdf` to a tidy format, and named the output as `jdf_tidy`. "
   ]
  },
  {
   "cell_type": "code",
   "execution_count": 33,
   "id": "59367e30",
   "metadata": {},
   "outputs": [
    {
     "data": {
      "text/html": [
       "<table class=\"data-frame\"><thead><tr><th></th><th>date</th><th>name</th><th>interest</th></tr><tr><th></th><th>DateTime</th><th>Cat…</th><th>Int64</th></tr></thead><tbody><p>1,220 rows × 3 columns</p><tr><th>1</th><td>2020-12-01T00:00:00</td><td>Hank Aaron</td><td>0</td></tr><tr><th>2</th><td>2020-12-02T00:00:00</td><td>Hank Aaron</td><td>0</td></tr><tr><th>3</th><td>2020-12-03T00:00:00</td><td>Hank Aaron</td><td>0</td></tr><tr><th>4</th><td>2020-12-04T00:00:00</td><td>Hank Aaron</td><td>0</td></tr><tr><th>5</th><td>2020-12-05T00:00:00</td><td>Hank Aaron</td><td>0</td></tr><tr><th>6</th><td>2020-12-06T00:00:00</td><td>Hank Aaron</td><td>0</td></tr><tr><th>7</th><td>2020-12-07T00:00:00</td><td>Hank Aaron</td><td>0</td></tr><tr><th>8</th><td>2020-12-08T00:00:00</td><td>Hank Aaron</td><td>0</td></tr><tr><th>9</th><td>2020-12-09T00:00:00</td><td>Hank Aaron</td><td>0</td></tr><tr><th>10</th><td>2020-12-10T00:00:00</td><td>Hank Aaron</td><td>0</td></tr><tr><th>11</th><td>2020-12-11T00:00:00</td><td>Hank Aaron</td><td>0</td></tr><tr><th>12</th><td>2020-12-12T00:00:00</td><td>Hank Aaron</td><td>0</td></tr><tr><th>13</th><td>2020-12-13T00:00:00</td><td>Hank Aaron</td><td>0</td></tr><tr><th>14</th><td>2020-12-14T00:00:00</td><td>Hank Aaron</td><td>0</td></tr><tr><th>15</th><td>2020-12-15T00:00:00</td><td>Hank Aaron</td><td>0</td></tr><tr><th>16</th><td>2020-12-16T00:00:00</td><td>Hank Aaron</td><td>0</td></tr><tr><th>17</th><td>2020-12-17T00:00:00</td><td>Hank Aaron</td><td>0</td></tr><tr><th>18</th><td>2020-12-18T00:00:00</td><td>Hank Aaron</td><td>0</td></tr><tr><th>19</th><td>2020-12-19T00:00:00</td><td>Hank Aaron</td><td>0</td></tr><tr><th>20</th><td>2020-12-20T00:00:00</td><td>Hank Aaron</td><td>0</td></tr><tr><th>&vellip;</th><td>&vellip;</td><td>&vellip;</td><td>&vellip;</td></tr></tbody></table>"
      ],
      "text/latex": [
       "\\begin{tabular}{r|ccc}\n",
       "\t& date & name & interest\\\\\n",
       "\t\\hline\n",
       "\t& DateTime & Cat… & Int64\\\\\n",
       "\t\\hline\n",
       "\t1 & 2020-12-01T00:00:00 & Hank Aaron & 0 \\\\\n",
       "\t2 & 2020-12-02T00:00:00 & Hank Aaron & 0 \\\\\n",
       "\t3 & 2020-12-03T00:00:00 & Hank Aaron & 0 \\\\\n",
       "\t4 & 2020-12-04T00:00:00 & Hank Aaron & 0 \\\\\n",
       "\t5 & 2020-12-05T00:00:00 & Hank Aaron & 0 \\\\\n",
       "\t6 & 2020-12-06T00:00:00 & Hank Aaron & 0 \\\\\n",
       "\t7 & 2020-12-07T00:00:00 & Hank Aaron & 0 \\\\\n",
       "\t8 & 2020-12-08T00:00:00 & Hank Aaron & 0 \\\\\n",
       "\t9 & 2020-12-09T00:00:00 & Hank Aaron & 0 \\\\\n",
       "\t10 & 2020-12-10T00:00:00 & Hank Aaron & 0 \\\\\n",
       "\t11 & 2020-12-11T00:00:00 & Hank Aaron & 0 \\\\\n",
       "\t12 & 2020-12-12T00:00:00 & Hank Aaron & 0 \\\\\n",
       "\t13 & 2020-12-13T00:00:00 & Hank Aaron & 0 \\\\\n",
       "\t14 & 2020-12-14T00:00:00 & Hank Aaron & 0 \\\\\n",
       "\t15 & 2020-12-15T00:00:00 & Hank Aaron & 0 \\\\\n",
       "\t16 & 2020-12-16T00:00:00 & Hank Aaron & 0 \\\\\n",
       "\t17 & 2020-12-17T00:00:00 & Hank Aaron & 0 \\\\\n",
       "\t18 & 2020-12-18T00:00:00 & Hank Aaron & 0 \\\\\n",
       "\t19 & 2020-12-19T00:00:00 & Hank Aaron & 0 \\\\\n",
       "\t20 & 2020-12-20T00:00:00 & Hank Aaron & 0 \\\\\n",
       "\t$\\dots$ & $\\dots$ & $\\dots$ & $\\dots$ \\\\\n",
       "\\end{tabular}\n"
      ],
      "text/plain": [
       "1220×3 DataFrame\n",
       "│ Row  │ date                │ name         │ interest │\n",
       "│      │ \u001b[90mDateTime\u001b[39m            │ \u001b[90mCategorical…\u001b[39m │ \u001b[90mInt64\u001b[39m    │\n",
       "├──────┼─────────────────────┼──────────────┼──────────┤\n",
       "│ 1    │ 2020-12-01T00:00:00 │ Hank Aaron   │ 0        │\n",
       "│ 2    │ 2020-12-02T00:00:00 │ Hank Aaron   │ 0        │\n",
       "│ 3    │ 2020-12-03T00:00:00 │ Hank Aaron   │ 0        │\n",
       "│ 4    │ 2020-12-04T00:00:00 │ Hank Aaron   │ 0        │\n",
       "│ 5    │ 2020-12-05T00:00:00 │ Hank Aaron   │ 0        │\n",
       "⋮\n",
       "│ 1215 │ 2021-07-27T00:00:00 │ Cicely Tyson │ 0        │\n",
       "│ 1216 │ 2021-07-28T00:00:00 │ Cicely Tyson │ 0        │\n",
       "│ 1217 │ 2021-07-29T00:00:00 │ Cicely Tyson │ 0        │\n",
       "│ 1218 │ 2021-07-30T00:00:00 │ Cicely Tyson │ 0        │\n",
       "│ 1219 │ 2021-07-31T00:00:00 │ Cicely Tyson │ 0        │\n",
       "│ 1220 │ 2021-08-01T00:00:00 │ Cicely Tyson │ 0        │"
      ]
     },
     "execution_count": 33,
     "metadata": {},
     "output_type": "execute_result"
    }
   ],
   "source": [
    "trends = Pandas.reset_index(Pandas.DataFrame(trends_data))\n",
    "jdf = DataFrames.DataFrame(trends)\n",
    "jdf_tidy = DataFrames.stack(jdf, 2:6)\n",
    "rename!(jdf_tidy, [:date, :name, :interest])"
   ]
  },
  {
   "cell_type": "markdown",
   "id": "fdf25cee",
   "metadata": {},
   "source": [
    "Now, we create two dictionaries for gender and death_date. We need these two dictionaries to fill up two empty columns (for gender and death_date) we are going to create. "
   ]
  },
  {
   "cell_type": "code",
   "execution_count": 34,
   "id": "3a0688f4",
   "metadata": {},
   "outputs": [
    {
     "data": {
      "text/plain": [
       "Dict{String, String} with 5 entries:\n",
       "  \"Cloris Leachman\"     => \"2021-01-27\"\n",
       "  \"Tanya Roberts\"       => \"2021-01-04\"\n",
       "  \"Cicely Tyson\"        => \"2021-01-28\"\n",
       "  \"Hank Aaron\"          => \"2021-01-22\"\n",
       "  \"Christopher Plummer\" => \"2021-02-05\""
      ]
     },
     "execution_count": 34,
     "metadata": {},
     "output_type": "execute_result"
    }
   ],
   "source": [
    "jdf_tidy.date = Date.(jdf_tidy.date)\n",
    "gender_dict = Dict(Pair.(df.name, df.gender))\n",
    "death_dict = Dict(Pair.(df.name, df.death))"
   ]
  },
  {
   "cell_type": "code",
   "execution_count": 35,
   "id": "7a6a8ebd",
   "metadata": {
    "scrolled": true
   },
   "outputs": [
    {
     "data": {
      "text/plain": [
       "1220-element Vector{Date}:\n",
       " -147105041040489-18085043209519162-3689348814741910324\n",
       " 138772826741951--18085043209519155-3689348814741910305\n",
       " 176058266421181--42198434155544712-3689348814741910319\n",
       " -184051530908095--24113390946025547-7378697629483820638\n",
       " 131822089246799--18085043209519161-3689348814741910309\n",
       " -132043185343785-42198434155544718-3689348814741910348\n",
       " 23640804498135--12056695473012768-7378697629483820643\n",
       " -185690920665950-08-7378697629483820672\n",
       " ⋮\n",
       " 19458606317606-02-13\n",
       " 384851639533-06-19\n",
       " 384851639533-03-15\n",
       " 16382822-05-21\n",
       " 8477551716383-02-05\n",
       " 384851639532-07-02\n",
       " 384851639533-04-16"
      ]
     },
     "execution_count": 35,
     "metadata": {},
     "output_type": "execute_result"
    }
   ],
   "source": [
    "# To create two empty columns for `gender` and `death_date`:\n",
    "jdf_tidy[:, :gender] = Vector{String}(undef, size(jdf_tidy)[1])\n",
    "jdf_tidy[:, :death_date] = Vector{Date}(undef, size(jdf_tidy)[1])"
   ]
  },
  {
   "cell_type": "markdown",
   "id": "f39535a9",
   "metadata": {},
   "source": [
    "As mentioned above, we iterate each row in `jdf_tidy` and fill up the two empty columns with the two dictionaries."
   ]
  },
  {
   "cell_type": "code",
   "execution_count": 36,
   "id": "fd3a8896",
   "metadata": {},
   "outputs": [],
   "source": [
    "for r in eachrow(jdf_tidy)\n",
    "    if r.name in collect(keys(gender_dict))\n",
    "        r.gender = gender_dict[r.name]\n",
    "    end\n",
    "    if r.name in collect(keys(death_dict))\n",
    "        r.death_date = Date(death_dict[r.name], \"yyyy-mm-dd\")\n",
    "    end\n",
    "end"
   ]
  },
  {
   "cell_type": "code",
   "execution_count": 37,
   "id": "0fb0249d",
   "metadata": {},
   "outputs": [
    {
     "data": {
      "text/html": [
       "<table class=\"data-frame\"><thead><tr><th></th><th>date</th><th>name</th><th>interest</th><th>gender</th><th>death_date</th></tr><tr><th></th><th>Date</th><th>Cat…</th><th>Int64</th><th>String</th><th>Date</th></tr></thead><tbody><p>1,220 rows × 5 columns</p><tr><th>1</th><td>2020-12-01</td><td>Hank Aaron</td><td>0</td><td>male</td><td>2021-01-22</td></tr><tr><th>2</th><td>2020-12-02</td><td>Hank Aaron</td><td>0</td><td>male</td><td>2021-01-22</td></tr><tr><th>3</th><td>2020-12-03</td><td>Hank Aaron</td><td>0</td><td>male</td><td>2021-01-22</td></tr><tr><th>4</th><td>2020-12-04</td><td>Hank Aaron</td><td>0</td><td>male</td><td>2021-01-22</td></tr><tr><th>5</th><td>2020-12-05</td><td>Hank Aaron</td><td>0</td><td>male</td><td>2021-01-22</td></tr><tr><th>6</th><td>2020-12-06</td><td>Hank Aaron</td><td>0</td><td>male</td><td>2021-01-22</td></tr><tr><th>7</th><td>2020-12-07</td><td>Hank Aaron</td><td>0</td><td>male</td><td>2021-01-22</td></tr><tr><th>8</th><td>2020-12-08</td><td>Hank Aaron</td><td>0</td><td>male</td><td>2021-01-22</td></tr><tr><th>9</th><td>2020-12-09</td><td>Hank Aaron</td><td>0</td><td>male</td><td>2021-01-22</td></tr><tr><th>10</th><td>2020-12-10</td><td>Hank Aaron</td><td>0</td><td>male</td><td>2021-01-22</td></tr><tr><th>11</th><td>2020-12-11</td><td>Hank Aaron</td><td>0</td><td>male</td><td>2021-01-22</td></tr><tr><th>12</th><td>2020-12-12</td><td>Hank Aaron</td><td>0</td><td>male</td><td>2021-01-22</td></tr><tr><th>13</th><td>2020-12-13</td><td>Hank Aaron</td><td>0</td><td>male</td><td>2021-01-22</td></tr><tr><th>14</th><td>2020-12-14</td><td>Hank Aaron</td><td>0</td><td>male</td><td>2021-01-22</td></tr><tr><th>15</th><td>2020-12-15</td><td>Hank Aaron</td><td>0</td><td>male</td><td>2021-01-22</td></tr><tr><th>16</th><td>2020-12-16</td><td>Hank Aaron</td><td>0</td><td>male</td><td>2021-01-22</td></tr><tr><th>17</th><td>2020-12-17</td><td>Hank Aaron</td><td>0</td><td>male</td><td>2021-01-22</td></tr><tr><th>18</th><td>2020-12-18</td><td>Hank Aaron</td><td>0</td><td>male</td><td>2021-01-22</td></tr><tr><th>19</th><td>2020-12-19</td><td>Hank Aaron</td><td>0</td><td>male</td><td>2021-01-22</td></tr><tr><th>20</th><td>2020-12-20</td><td>Hank Aaron</td><td>0</td><td>male</td><td>2021-01-22</td></tr><tr><th>&vellip;</th><td>&vellip;</td><td>&vellip;</td><td>&vellip;</td><td>&vellip;</td><td>&vellip;</td></tr></tbody></table>"
      ],
      "text/latex": [
       "\\begin{tabular}{r|ccccc}\n",
       "\t& date & name & interest & gender & death\\_date\\\\\n",
       "\t\\hline\n",
       "\t& Date & Cat… & Int64 & String & Date\\\\\n",
       "\t\\hline\n",
       "\t1 & 2020-12-01 & Hank Aaron & 0 & male & 2021-01-22 \\\\\n",
       "\t2 & 2020-12-02 & Hank Aaron & 0 & male & 2021-01-22 \\\\\n",
       "\t3 & 2020-12-03 & Hank Aaron & 0 & male & 2021-01-22 \\\\\n",
       "\t4 & 2020-12-04 & Hank Aaron & 0 & male & 2021-01-22 \\\\\n",
       "\t5 & 2020-12-05 & Hank Aaron & 0 & male & 2021-01-22 \\\\\n",
       "\t6 & 2020-12-06 & Hank Aaron & 0 & male & 2021-01-22 \\\\\n",
       "\t7 & 2020-12-07 & Hank Aaron & 0 & male & 2021-01-22 \\\\\n",
       "\t8 & 2020-12-08 & Hank Aaron & 0 & male & 2021-01-22 \\\\\n",
       "\t9 & 2020-12-09 & Hank Aaron & 0 & male & 2021-01-22 \\\\\n",
       "\t10 & 2020-12-10 & Hank Aaron & 0 & male & 2021-01-22 \\\\\n",
       "\t11 & 2020-12-11 & Hank Aaron & 0 & male & 2021-01-22 \\\\\n",
       "\t12 & 2020-12-12 & Hank Aaron & 0 & male & 2021-01-22 \\\\\n",
       "\t13 & 2020-12-13 & Hank Aaron & 0 & male & 2021-01-22 \\\\\n",
       "\t14 & 2020-12-14 & Hank Aaron & 0 & male & 2021-01-22 \\\\\n",
       "\t15 & 2020-12-15 & Hank Aaron & 0 & male & 2021-01-22 \\\\\n",
       "\t16 & 2020-12-16 & Hank Aaron & 0 & male & 2021-01-22 \\\\\n",
       "\t17 & 2020-12-17 & Hank Aaron & 0 & male & 2021-01-22 \\\\\n",
       "\t18 & 2020-12-18 & Hank Aaron & 0 & male & 2021-01-22 \\\\\n",
       "\t19 & 2020-12-19 & Hank Aaron & 0 & male & 2021-01-22 \\\\\n",
       "\t20 & 2020-12-20 & Hank Aaron & 0 & male & 2021-01-22 \\\\\n",
       "\t$\\dots$ & $\\dots$ & $\\dots$ & $\\dots$ & $\\dots$ & $\\dots$ \\\\\n",
       "\\end{tabular}\n"
      ],
      "text/plain": [
       "1220×5 DataFrame\n",
       "│ Row  │ date       │ name         │ interest │ gender │ death_date │\n",
       "│      │ \u001b[90mDate\u001b[39m       │ \u001b[90mCategorical…\u001b[39m │ \u001b[90mInt64\u001b[39m    │ \u001b[90mString\u001b[39m │ \u001b[90mDate\u001b[39m       │\n",
       "├──────┼────────────┼──────────────┼──────────┼────────┼────────────┤\n",
       "│ 1    │ 2020-12-01 │ Hank Aaron   │ 0        │ male   │ 2021-01-22 │\n",
       "│ 2    │ 2020-12-02 │ Hank Aaron   │ 0        │ male   │ 2021-01-22 │\n",
       "│ 3    │ 2020-12-03 │ Hank Aaron   │ 0        │ male   │ 2021-01-22 │\n",
       "│ 4    │ 2020-12-04 │ Hank Aaron   │ 0        │ male   │ 2021-01-22 │\n",
       "│ 5    │ 2020-12-05 │ Hank Aaron   │ 0        │ male   │ 2021-01-22 │\n",
       "⋮\n",
       "│ 1215 │ 2021-07-27 │ Cicely Tyson │ 0        │ female │ 2021-01-28 │\n",
       "│ 1216 │ 2021-07-28 │ Cicely Tyson │ 0        │ female │ 2021-01-28 │\n",
       "│ 1217 │ 2021-07-29 │ Cicely Tyson │ 0        │ female │ 2021-01-28 │\n",
       "│ 1218 │ 2021-07-30 │ Cicely Tyson │ 0        │ female │ 2021-01-28 │\n",
       "│ 1219 │ 2021-07-31 │ Cicely Tyson │ 0        │ female │ 2021-01-28 │\n",
       "│ 1220 │ 2021-08-01 │ Cicely Tyson │ 0        │ female │ 2021-01-28 │"
      ]
     },
     "execution_count": 37,
     "metadata": {},
     "output_type": "execute_result"
    }
   ],
   "source": [
    "jdf_tidy"
   ]
  },
  {
   "cell_type": "markdown",
   "id": "a9de8634",
   "metadata": {},
   "source": [
    "Now, we create another column named `distance`, which is the **distance** between the each date and the celebrity's `death_date`."
   ]
  },
  {
   "cell_type": "code",
   "execution_count": 38,
   "id": "f270947e",
   "metadata": {},
   "outputs": [
    {
     "data": {
      "text/plain": [
       "getDayValue (generic function with 1 method)"
      ]
     },
     "execution_count": 38,
     "metadata": {},
     "output_type": "execute_result"
    }
   ],
   "source": [
    "function getDayValue(a, b)\n",
    "    (a - b).value\n",
    "end"
   ]
  },
  {
   "cell_type": "code",
   "execution_count": 39,
   "id": "e3a6d9af",
   "metadata": {
    "scrolled": true
   },
   "outputs": [
    {
     "data": {
      "text/html": [
       "<table class=\"data-frame\"><thead><tr><th></th><th>date</th><th>name</th><th>interest</th><th>gender</th><th>death_date</th><th>distance</th></tr><tr><th></th><th>Date</th><th>Cat…</th><th>Int64</th><th>String</th><th>Date</th><th>Int64</th></tr></thead><tbody><p>1,220 rows × 6 columns</p><tr><th>1</th><td>2020-12-01</td><td>Hank Aaron</td><td>0</td><td>male</td><td>2021-01-22</td><td>-52</td></tr><tr><th>2</th><td>2020-12-02</td><td>Hank Aaron</td><td>0</td><td>male</td><td>2021-01-22</td><td>-51</td></tr><tr><th>3</th><td>2020-12-03</td><td>Hank Aaron</td><td>0</td><td>male</td><td>2021-01-22</td><td>-50</td></tr><tr><th>4</th><td>2020-12-04</td><td>Hank Aaron</td><td>0</td><td>male</td><td>2021-01-22</td><td>-49</td></tr><tr><th>5</th><td>2020-12-05</td><td>Hank Aaron</td><td>0</td><td>male</td><td>2021-01-22</td><td>-48</td></tr><tr><th>6</th><td>2020-12-06</td><td>Hank Aaron</td><td>0</td><td>male</td><td>2021-01-22</td><td>-47</td></tr><tr><th>7</th><td>2020-12-07</td><td>Hank Aaron</td><td>0</td><td>male</td><td>2021-01-22</td><td>-46</td></tr><tr><th>8</th><td>2020-12-08</td><td>Hank Aaron</td><td>0</td><td>male</td><td>2021-01-22</td><td>-45</td></tr><tr><th>9</th><td>2020-12-09</td><td>Hank Aaron</td><td>0</td><td>male</td><td>2021-01-22</td><td>-44</td></tr><tr><th>10</th><td>2020-12-10</td><td>Hank Aaron</td><td>0</td><td>male</td><td>2021-01-22</td><td>-43</td></tr><tr><th>11</th><td>2020-12-11</td><td>Hank Aaron</td><td>0</td><td>male</td><td>2021-01-22</td><td>-42</td></tr><tr><th>12</th><td>2020-12-12</td><td>Hank Aaron</td><td>0</td><td>male</td><td>2021-01-22</td><td>-41</td></tr><tr><th>13</th><td>2020-12-13</td><td>Hank Aaron</td><td>0</td><td>male</td><td>2021-01-22</td><td>-40</td></tr><tr><th>14</th><td>2020-12-14</td><td>Hank Aaron</td><td>0</td><td>male</td><td>2021-01-22</td><td>-39</td></tr><tr><th>15</th><td>2020-12-15</td><td>Hank Aaron</td><td>0</td><td>male</td><td>2021-01-22</td><td>-38</td></tr><tr><th>16</th><td>2020-12-16</td><td>Hank Aaron</td><td>0</td><td>male</td><td>2021-01-22</td><td>-37</td></tr><tr><th>17</th><td>2020-12-17</td><td>Hank Aaron</td><td>0</td><td>male</td><td>2021-01-22</td><td>-36</td></tr><tr><th>18</th><td>2020-12-18</td><td>Hank Aaron</td><td>0</td><td>male</td><td>2021-01-22</td><td>-35</td></tr><tr><th>19</th><td>2020-12-19</td><td>Hank Aaron</td><td>0</td><td>male</td><td>2021-01-22</td><td>-34</td></tr><tr><th>20</th><td>2020-12-20</td><td>Hank Aaron</td><td>0</td><td>male</td><td>2021-01-22</td><td>-33</td></tr><tr><th>&vellip;</th><td>&vellip;</td><td>&vellip;</td><td>&vellip;</td><td>&vellip;</td><td>&vellip;</td><td>&vellip;</td></tr></tbody></table>"
      ],
      "text/latex": [
       "\\begin{tabular}{r|cccccc}\n",
       "\t& date & name & interest & gender & death\\_date & distance\\\\\n",
       "\t\\hline\n",
       "\t& Date & Cat… & Int64 & String & Date & Int64\\\\\n",
       "\t\\hline\n",
       "\t1 & 2020-12-01 & Hank Aaron & 0 & male & 2021-01-22 & -52 \\\\\n",
       "\t2 & 2020-12-02 & Hank Aaron & 0 & male & 2021-01-22 & -51 \\\\\n",
       "\t3 & 2020-12-03 & Hank Aaron & 0 & male & 2021-01-22 & -50 \\\\\n",
       "\t4 & 2020-12-04 & Hank Aaron & 0 & male & 2021-01-22 & -49 \\\\\n",
       "\t5 & 2020-12-05 & Hank Aaron & 0 & male & 2021-01-22 & -48 \\\\\n",
       "\t6 & 2020-12-06 & Hank Aaron & 0 & male & 2021-01-22 & -47 \\\\\n",
       "\t7 & 2020-12-07 & Hank Aaron & 0 & male & 2021-01-22 & -46 \\\\\n",
       "\t8 & 2020-12-08 & Hank Aaron & 0 & male & 2021-01-22 & -45 \\\\\n",
       "\t9 & 2020-12-09 & Hank Aaron & 0 & male & 2021-01-22 & -44 \\\\\n",
       "\t10 & 2020-12-10 & Hank Aaron & 0 & male & 2021-01-22 & -43 \\\\\n",
       "\t11 & 2020-12-11 & Hank Aaron & 0 & male & 2021-01-22 & -42 \\\\\n",
       "\t12 & 2020-12-12 & Hank Aaron & 0 & male & 2021-01-22 & -41 \\\\\n",
       "\t13 & 2020-12-13 & Hank Aaron & 0 & male & 2021-01-22 & -40 \\\\\n",
       "\t14 & 2020-12-14 & Hank Aaron & 0 & male & 2021-01-22 & -39 \\\\\n",
       "\t15 & 2020-12-15 & Hank Aaron & 0 & male & 2021-01-22 & -38 \\\\\n",
       "\t16 & 2020-12-16 & Hank Aaron & 0 & male & 2021-01-22 & -37 \\\\\n",
       "\t17 & 2020-12-17 & Hank Aaron & 0 & male & 2021-01-22 & -36 \\\\\n",
       "\t18 & 2020-12-18 & Hank Aaron & 0 & male & 2021-01-22 & -35 \\\\\n",
       "\t19 & 2020-12-19 & Hank Aaron & 0 & male & 2021-01-22 & -34 \\\\\n",
       "\t20 & 2020-12-20 & Hank Aaron & 0 & male & 2021-01-22 & -33 \\\\\n",
       "\t$\\dots$ & $\\dots$ & $\\dots$ & $\\dots$ & $\\dots$ & $\\dots$ & $\\dots$ \\\\\n",
       "\\end{tabular}\n"
      ],
      "text/plain": [
       "1220×6 DataFrame\n",
       "│ Row  │ date       │ name         │ interest │ gender │ death_date │ distance │\n",
       "│      │ \u001b[90mDate\u001b[39m       │ \u001b[90mCategorical…\u001b[39m │ \u001b[90mInt64\u001b[39m    │ \u001b[90mString\u001b[39m │ \u001b[90mDate\u001b[39m       │ \u001b[90mInt64\u001b[39m    │\n",
       "├──────┼────────────┼──────────────┼──────────┼────────┼────────────┼──────────┤\n",
       "│ 1    │ 2020-12-01 │ Hank Aaron   │ 0        │ male   │ 2021-01-22 │ -52      │\n",
       "│ 2    │ 2020-12-02 │ Hank Aaron   │ 0        │ male   │ 2021-01-22 │ -51      │\n",
       "│ 3    │ 2020-12-03 │ Hank Aaron   │ 0        │ male   │ 2021-01-22 │ -50      │\n",
       "│ 4    │ 2020-12-04 │ Hank Aaron   │ 0        │ male   │ 2021-01-22 │ -49      │\n",
       "│ 5    │ 2020-12-05 │ Hank Aaron   │ 0        │ male   │ 2021-01-22 │ -48      │\n",
       "⋮\n",
       "│ 1215 │ 2021-07-27 │ Cicely Tyson │ 0        │ female │ 2021-01-28 │ 180      │\n",
       "│ 1216 │ 2021-07-28 │ Cicely Tyson │ 0        │ female │ 2021-01-28 │ 181      │\n",
       "│ 1217 │ 2021-07-29 │ Cicely Tyson │ 0        │ female │ 2021-01-28 │ 182      │\n",
       "│ 1218 │ 2021-07-30 │ Cicely Tyson │ 0        │ female │ 2021-01-28 │ 183      │\n",
       "│ 1219 │ 2021-07-31 │ Cicely Tyson │ 0        │ female │ 2021-01-28 │ 184      │\n",
       "│ 1220 │ 2021-08-01 │ Cicely Tyson │ 0        │ female │ 2021-01-28 │ 185      │"
      ]
     },
     "execution_count": 39,
     "metadata": {},
     "output_type": "execute_result"
    }
   ],
   "source": [
    "jdf_tidy.distance = getDayValue.(jdf_tidy.date, jdf_tidy.death_date) \n",
    "jdf_tidy"
   ]
  },
  {
   "cell_type": "code",
   "execution_count": 40,
   "id": "b32293cc",
   "metadata": {},
   "outputs": [],
   "source": [
    "using StatsPlots"
   ]
  },
  {
   "cell_type": "code",
   "execution_count": 41,
   "id": "99b9bb36",
   "metadata": {},
   "outputs": [
    {
     "data": {
      "image/png": "[encoded data removed]"
     },
     "execution_count": 41,
     "metadata": {},
     "output_type": "execute_result"
    }
   ],
   "source": [
    "@df jdf_tidy Plots.plot(:date, :interest, group=:name,\n",
    "    seriestype=:line, fmt = :png\n",
    ")"
   ]
  },
  {
   "cell_type": "code",
   "execution_count": 42,
   "id": "6b147a39",
   "metadata": {},
   "outputs": [
    {
     "data": {
      "image/png": "[encoded data removed]"
     },
     "execution_count": 42,
     "metadata": {},
     "output_type": "execute_result"
    }
   ],
   "source": [
    "@df jdf_tidy Plots.plot(:distance, :interest, group=:gender,\n",
    "    seriestype=:line, fmt = :png\n",
    ")"
   ]
  },
  {
   "cell_type": "code",
   "execution_count": 43,
   "id": "759bc052",
   "metadata": {},
   "outputs": [
    {
     "data": {
      "image/png": "[encoded data removed]"
     },
     "execution_count": 43,
     "metadata": {},
     "output_type": "execute_result"
    }
   ],
   "source": [
    "@df jdf_tidy Plots.plot(:distance, :interest, group=:gender,\n",
    "    seriestype=:scatter, fmt = :png\n",
    ")"
   ]
  },
  {
   "cell_type": "code",
   "execution_count": 44,
   "id": "0a90316c",
   "metadata": {},
   "outputs": [
    {
     "data": {
      "image/png": "[encoded data removed]"
     },
     "execution_count": 44,
     "metadata": {},
     "output_type": "execute_result"
    }
   ],
   "source": [
    "@df df_plots Plots.plot(:distance, :interest_mean, group=:gender,\n",
    "    seriestype=:line,\n",
    "    xlim=(-30, 100),\n",
    "    fmt = :png\n",
    ")"
   ]
  },
  {
   "cell_type": "code",
   "execution_count": 45,
   "id": "d9627ed0",
   "metadata": {},
   "outputs": [
    {
     "data": {
      "text/html": [
       "<table class=\"data-frame\"><thead><tr><th></th><th>gender</th><th>distance</th><th>interest_mean</th></tr><tr><th></th><th>String</th><th>Int64</th><th>Float64</th></tr></thead><tbody><p>526 rows × 3 columns</p><tr><th>1</th><td>male</td><td>-52</td><td>0.0</td></tr><tr><th>2</th><td>male</td><td>-51</td><td>0.0</td></tr><tr><th>3</th><td>male</td><td>-50</td><td>0.0</td></tr><tr><th>4</th><td>male</td><td>-49</td><td>0.0</td></tr><tr><th>5</th><td>male</td><td>-48</td><td>0.0</td></tr><tr><th>6</th><td>male</td><td>-47</td><td>0.0</td></tr><tr><th>7</th><td>male</td><td>-46</td><td>1.5</td></tr><tr><th>8</th><td>male</td><td>-45</td><td>0.0</td></tr><tr><th>9</th><td>male</td><td>-44</td><td>0.0</td></tr><tr><th>10</th><td>male</td><td>-43</td><td>0.0</td></tr><tr><th>11</th><td>male</td><td>-42</td><td>0.5</td></tr><tr><th>12</th><td>male</td><td>-41</td><td>0.0</td></tr><tr><th>13</th><td>male</td><td>-40</td><td>1.0</td></tr><tr><th>14</th><td>male</td><td>-39</td><td>0.0</td></tr><tr><th>15</th><td>male</td><td>-38</td><td>0.0</td></tr><tr><th>16</th><td>male</td><td>-37</td><td>0.0</td></tr><tr><th>17</th><td>male</td><td>-36</td><td>0.5</td></tr><tr><th>18</th><td>male</td><td>-35</td><td>0.0</td></tr><tr><th>19</th><td>male</td><td>-34</td><td>0.5</td></tr><tr><th>20</th><td>male</td><td>-33</td><td>0.0</td></tr><tr><th>&vellip;</th><td>&vellip;</td><td>&vellip;</td><td>&vellip;</td></tr></tbody></table>"
      ],
      "text/latex": [
       "\\begin{tabular}{r|ccc}\n",
       "\t& gender & distance & interest\\_mean\\\\\n",
       "\t\\hline\n",
       "\t& String & Int64 & Float64\\\\\n",
       "\t\\hline\n",
       "\t1 & male & -52 & 0.0 \\\\\n",
       "\t2 & male & -51 & 0.0 \\\\\n",
       "\t3 & male & -50 & 0.0 \\\\\n",
       "\t4 & male & -49 & 0.0 \\\\\n",
       "\t5 & male & -48 & 0.0 \\\\\n",
       "\t6 & male & -47 & 0.0 \\\\\n",
       "\t7 & male & -46 & 1.5 \\\\\n",
       "\t8 & male & -45 & 0.0 \\\\\n",
       "\t9 & male & -44 & 0.0 \\\\\n",
       "\t10 & male & -43 & 0.0 \\\\\n",
       "\t11 & male & -42 & 0.5 \\\\\n",
       "\t12 & male & -41 & 0.0 \\\\\n",
       "\t13 & male & -40 & 1.0 \\\\\n",
       "\t14 & male & -39 & 0.0 \\\\\n",
       "\t15 & male & -38 & 0.0 \\\\\n",
       "\t16 & male & -37 & 0.0 \\\\\n",
       "\t17 & male & -36 & 0.5 \\\\\n",
       "\t18 & male & -35 & 0.0 \\\\\n",
       "\t19 & male & -34 & 0.5 \\\\\n",
       "\t20 & male & -33 & 0.0 \\\\\n",
       "\t$\\dots$ & $\\dots$ & $\\dots$ & $\\dots$ \\\\\n",
       "\\end{tabular}\n"
      ],
      "text/plain": [
       "526×3 DataFrame\n",
       "│ Row │ gender │ distance │ interest_mean │\n",
       "│     │ \u001b[90mString\u001b[39m │ \u001b[90mInt64\u001b[39m    │ \u001b[90mFloat64\u001b[39m       │\n",
       "├─────┼────────┼──────────┼───────────────┤\n",
       "│ 1   │ male   │ -52      │ 0.0           │\n",
       "│ 2   │ male   │ -51      │ 0.0           │\n",
       "│ 3   │ male   │ -50      │ 0.0           │\n",
       "│ 4   │ male   │ -49      │ 0.0           │\n",
       "│ 5   │ male   │ -48      │ 0.0           │\n",
       "⋮\n",
       "│ 521 │ female │ 205      │ 0.0           │\n",
       "│ 522 │ female │ 206      │ 0.0           │\n",
       "│ 523 │ female │ 207      │ 0.0           │\n",
       "│ 524 │ female │ 208      │ 0.0           │\n",
       "│ 525 │ female │ 209      │ 0.0           │\n",
       "│ 526 │ female │ -58      │ 0.0           │"
      ]
     },
     "execution_count": 45,
     "metadata": {},
     "output_type": "execute_result"
    }
   ],
   "source": [
    "df_new = jdf_tidy[:, [:interest, :gender, :distance]]\n",
    "gdf = DataFrames.groupby(df_new, [:gender, :distance])\n",
    "df_plots = combine(gdf, :interest => mean)"
   ]
  }
 ],
 "metadata": {
  "kernelspec": {
   "display_name": "Julia 1.6.3",
   "language": "julia",
   "name": "julia-1.6"
  },
  "language_info": {
   "file_extension": ".jl",
   "mimetype": "application/julia",
   "name": "julia",
   "version": "1.6.3"
  }
 },
 "nbformat": 4,
 "nbformat_minor": 5
}
