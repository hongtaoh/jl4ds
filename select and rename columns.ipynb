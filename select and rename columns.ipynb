{
 "cells": [
  {
   "cell_type": "markdown",
   "id": "7c4332f2",
   "metadata": {},
   "source": [
    "# How to select and rename colums in a data frame"
   ]
  },
  {
   "cell_type": "code",
   "execution_count": 4,
   "id": "6f8736ef",
   "metadata": {},
   "outputs": [],
   "source": [
    "using DataFrames, Random"
   ]
  },
  {
   "cell_type": "markdown",
   "id": "49fdeac0",
   "metadata": {},
   "source": [
    "First, we construct a dataframe:"
   ]
  },
  {
   "cell_type": "code",
   "execution_count": 5,
   "id": "81176942",
   "metadata": {},
   "outputs": [
    {
     "data": {
      "text/html": [
       "<table class=\"data-frame\"><thead><tr><th></th><th>A</th><th>B</th><th>C</th></tr><tr><th></th><th>Int64</th><th>String</th><th>String</th></tr></thead><tbody><p>3 rows × 3 columns</p><tr><th>1</th><td>1</td><td>a</td><td>njVF</td></tr><tr><th>2</th><td>2</td><td>b</td><td>9lHn</td></tr><tr><th>3</th><td>3</td><td>c</td><td>RVj4</td></tr></tbody></table>"
      ],
      "text/latex": [
       "\\begin{tabular}{r|ccc}\n",
       "\t& A & B & C\\\\\n",
       "\t\\hline\n",
       "\t& Int64 & String & String\\\\\n",
       "\t\\hline\n",
       "\t1 & 1 & a & njVF \\\\\n",
       "\t2 & 2 & b & 9lHn \\\\\n",
       "\t3 & 3 & c & RVj4 \\\\\n",
       "\\end{tabular}\n"
      ],
      "text/plain": [
       "3×3 DataFrame\n",
       "│ Row │ A     │ B      │ C      │\n",
       "│     │ \u001b[90mInt64\u001b[39m │ \u001b[90mString\u001b[39m │ \u001b[90mString\u001b[39m │\n",
       "├─────┼───────┼────────┼────────┤\n",
       "│ 1   │ 1     │ a      │ njVF   │\n",
       "│ 2   │ 2     │ b      │ 9lHn   │\n",
       "│ 3   │ 3     │ c      │ RVj4   │"
      ]
     },
     "execution_count": 5,
     "metadata": {},
     "output_type": "execute_result"
    }
   ],
   "source": [
    "df = DataFrame(:A => 1:3 , :B => [\"a\", \"b\", \"c\"], :C => randstring.([4,4,4]))"
   ]
  },
  {
   "cell_type": "markdown",
   "id": "67e27678",
   "metadata": {},
   "source": [
    "## Select columns:\n",
    "Then we obtain a subset:"
   ]
  },
  {
   "cell_type": "code",
   "execution_count": 8,
   "id": "50054b21",
   "metadata": {},
   "outputs": [
    {
     "data": {
      "text/html": [
       "<table class=\"data-frame\"><thead><tr><th></th><th>A</th><th>C</th></tr><tr><th></th><th>Int64</th><th>String</th></tr></thead><tbody><p>3 rows × 2 columns</p><tr><th>1</th><td>1</td><td>njVF</td></tr><tr><th>2</th><td>2</td><td>9lHn</td></tr><tr><th>3</th><td>3</td><td>RVj4</td></tr></tbody></table>"
      ],
      "text/latex": [
       "\\begin{tabular}{r|cc}\n",
       "\t& A & C\\\\\n",
       "\t\\hline\n",
       "\t& Int64 & String\\\\\n",
       "\t\\hline\n",
       "\t1 & 1 & njVF \\\\\n",
       "\t2 & 2 & 9lHn \\\\\n",
       "\t3 & 3 & RVj4 \\\\\n",
       "\\end{tabular}\n"
      ],
      "text/plain": [
       "3×2 DataFrame\n",
       "│ Row │ A     │ C      │\n",
       "│     │ \u001b[90mInt64\u001b[39m │ \u001b[90mString\u001b[39m │\n",
       "├─────┼───────┼────────┤\n",
       "│ 1   │ 1     │ njVF   │\n",
       "│ 2   │ 2     │ 9lHn   │\n",
       "│ 3   │ 3     │ RVj4   │"
      ]
     },
     "execution_count": 8,
     "metadata": {},
     "output_type": "execute_result"
    }
   ],
   "source": [
    "df1 = df[:, [1, 3]]"
   ]
  },
  {
   "cell_type": "markdown",
   "id": "290b4005",
   "metadata": {},
   "source": [
    "## Rename columns:\n",
    "Here is how we rename columns:"
   ]
  },
  {
   "cell_type": "code",
   "execution_count": 13,
   "id": "a9c0f28e",
   "metadata": {},
   "outputs": [
    {
     "data": {
      "text/html": [
       "<table class=\"data-frame\"><thead><tr><th></th><th>NewA</th><th>NewC</th></tr><tr><th></th><th>Int64</th><th>String</th></tr></thead><tbody><p>3 rows × 2 columns</p><tr><th>1</th><td>1</td><td>njVF</td></tr><tr><th>2</th><td>2</td><td>9lHn</td></tr><tr><th>3</th><td>3</td><td>RVj4</td></tr></tbody></table>"
      ],
      "text/latex": [
       "\\begin{tabular}{r|cc}\n",
       "\t& NewA & NewC\\\\\n",
       "\t\\hline\n",
       "\t& Int64 & String\\\\\n",
       "\t\\hline\n",
       "\t1 & 1 & njVF \\\\\n",
       "\t2 & 2 & 9lHn \\\\\n",
       "\t3 & 3 & RVj4 \\\\\n",
       "\\end{tabular}\n"
      ],
      "text/plain": [
       "3×2 DataFrame\n",
       "│ Row │ NewA  │ NewC   │\n",
       "│     │ \u001b[90mInt64\u001b[39m │ \u001b[90mString\u001b[39m │\n",
       "├─────┼───────┼────────┤\n",
       "│ 1   │ 1     │ njVF   │\n",
       "│ 2   │ 2     │ 9lHn   │\n",
       "│ 3   │ 3     │ RVj4   │"
      ]
     },
     "execution_count": 13,
     "metadata": {},
     "output_type": "execute_result"
    }
   ],
   "source": [
    "colnames = [:NewA, :NewC]\n",
    "rename!(df1, colnames)\n",
    "# or `names!(df1, colnames)`"
   ]
  }
 ],
 "metadata": {
  "kernelspec": {
   "display_name": "Julia 1.6.3",
   "language": "julia",
   "name": "julia-1.6"
  },
  "language_info": {
   "file_extension": ".jl",
   "mimetype": "application/julia",
   "name": "julia",
   "version": "1.6.3"
  }
 },
 "nbformat": 4,
 "nbformat_minor": 5
}
